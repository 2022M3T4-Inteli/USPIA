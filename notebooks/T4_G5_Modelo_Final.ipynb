{
  "cells": [
    {
      "cell_type": "code",
      "execution_count": null,
      "metadata": {
        "id": "4gL6SKRUP7GD"
      },
      "outputs": [],
      "source": [
        "from sklearn.model_selection import train_test_split\n",
        "from sklearn.metrics import classification_report\n",
        "from sklearn.metrics import plot_confusion_matrix\n",
        "import matplotlib.pyplot as plt\n",
        "import pandas as pd"
      ]
    },
    {
      "cell_type": "code",
      "execution_count": null,
      "metadata": {
        "colab": {
          "base_uri": "https://localhost:8080/"
        },
        "id": "eyySuF7q03Gs",
        "outputId": "29acefee-8923-4a72-bb4d-db3f79059991"
      },
      "outputs": [
        {
          "output_type": "stream",
          "name": "stdout",
          "text": [
            "Downloading 1UEmM-9GI5smY3OB-scxIgLeZ7EmZlqkL into ./new_manipulated_usp_data.csv... \n",
            "352.0 KiB Done.\n",
            "Downloading 1TmInpL1cXCxbbMJqiWnSuevsRy5ovbIn into ./BDIP_Mama_INTELI.xlsx... \n",
            "2.4 MiB Done.\n"
          ]
        }
      ],
      "source": [
        "from google_drive_downloader import GoogleDriveDownloader as gdd\n",
        "\n",
        "data_google_id = '1UEmM-9GI5smY3OB-scxIgLeZ7EmZlqkL'\n",
        "gdd.download_file_from_google_drive(file_id=data_google_id, \n",
        "                                    dest_path = './new_manipulated_usp_data.csv', \n",
        "                                    showsize = True)\n",
        "\n",
        "data_google_id2 = '1TmInpL1cXCxbbMJqiWnSuevsRy5ovbIn'\n",
        "gdd.download_file_from_google_drive(file_id=data_google_id2, \n",
        "                                    dest_path = './BDIP_Mama_INTELI.xlsx', \n",
        "                                    showsize = True)\n",
        "\n",
        "data_base = pd.read_csv(\"new_manipulated_usp_data.csv\")\n",
        "data_os = pd.read_excel(\"BDIP_Mama_INTELI.xlsx\")\n",
        "\n",
        "data_os = data_os.drop_duplicates('record_id', keep = 'first', ignore_index = True)\n",
        "data_os = data_os['output_os']\n",
        "\n",
        "data_base = data_base.assign(output_os = data_os)\n",
        "data_base = data_base.dropna(axis = 0)"
      ]
    },
    {
      "cell_type": "markdown",
      "metadata": {
        "id": "tljU32NfP962"
      },
      "source": [
        "#Melhor Modelo"
      ]
    },
    {
      "cell_type": "markdown",
      "metadata": {
        "id": "nTSRZMRddHEC"
      },
      "source": [
        "O modelo final foi escolhido a partir da sua acurácia e do número de falsos Low OS (falsos positivos), dentre todos os modelos já com os melhore hiperparâmetros.<br>\n",
        "Tendo essa métrica como base o melhor modelo escolhido foi o Random Forest, tendo 66% de acurácia e 135 de falsos positivos."
      ]
    },
    {
      "cell_type": "markdown",
      "metadata": {
        "id": "GzxcgQSw0SJV"
      },
      "source": [
        "##Random Forest"
      ]
    },
    {
      "cell_type": "markdown",
      "metadata": {
        "id": "-fLHaYIFgHYJ"
      },
      "source": [
        "O modelo Random Forest cria várias árvores de decisão, uma estrutura similar a um fluxograma, com “nós” onde uma condição é verificada, e se atendida o fluxo segue por um ramo, caso contrário, por outro, sempre levando ao próximo nó, até a finalização da árvore. No fim há uma votação de um resultado final."
      ]
    },
    {
      "cell_type": "code",
      "execution_count": null,
      "metadata": {
        "colab": {
          "base_uri": "https://localhost:8080/",
          "height": 490
        },
        "id": "s4d1uTx40SJb",
        "outputId": "32bd1a16-91bf-47a9-dc4f-49b803e30c84"
      },
      "outputs": [
        {
          "output_type": "stream",
          "name": "stderr",
          "text": [
            "/usr/local/lib/python3.7/dist-packages/sklearn/utils/deprecation.py:87: FutureWarning: Function plot_confusion_matrix is deprecated; Function `plot_confusion_matrix` is deprecated in 1.0 and will be removed in 1.2. Use one of the class methods: ConfusionMatrixDisplay.from_predictions or ConfusionMatrixDisplay.from_estimator.\n",
            "  warnings.warn(msg, category=FutureWarning)\n"
          ]
        },
        {
          "output_type": "stream",
          "name": "stdout",
          "text": [
            "              precision    recall  f1-score   support\n",
            "\n",
            "     High OS       0.65      0.77      0.71       599\n",
            "      Low OS       0.68      0.54      0.60       532\n",
            "\n",
            "    accuracy                           0.66      1131\n",
            "   macro avg       0.67      0.66      0.65      1131\n",
            "weighted avg       0.66      0.66      0.66      1131\n",
            "\n"
          ]
        },
        {
          "output_type": "display_data",
          "data": {
            "text/plain": [
              "<Figure size 432x288 with 2 Axes>"
            ],
            "image/png": "[encoded data removed]"
          },
          "metadata": {
            "needs_background": "light"
          }
        }
      ],
      "source": [
        "from sklearn.ensemble import RandomForestClassifier\n",
        "\n",
        "x = data_base.drop(columns=['record_id', 'output_os', 'follow_up_days',  'follow_up_days_recidive'])\n",
        "y = data_base['output_os']\n",
        "\n",
        "x_train, x_test, y_train, y_test = train_test_split(x, y, test_size = 0.3, random_state = 42)\n",
        "\n",
        "model_random_forest = RandomForestClassifier(bootstrap=False, ccp_alpha=0.0, class_weight='balanced',\n",
        "                       criterion='entropy', max_depth=10, max_features='sqrt',\n",
        "                       max_leaf_nodes=None, max_samples=None,\n",
        "                       min_impurity_decrease=0.001,\n",
        "                       min_samples_leaf=3,\n",
        "                       min_weight_fraction_leaf=0.0, n_estimators=50,\n",
        "                       n_jobs=None, oob_score=False, random_state=20,\n",
        "                       verbose=0, warm_start=False)\n",
        "model_random_forest.fit(x_train, y_train)\n",
        "yPredMin = model_random_forest.predict(x_test)\n",
        "\n",
        "matriz = plot_confusion_matrix(model_random_forest, x_test, y_test, cmap = 'Greens', values_format='.0f')\n",
        "plt.grid(False)\n",
        "\n",
        "print(classification_report(y_test, yPredMin))"
      ]
    },
    {
      "cell_type": "markdown",
      "metadata": {
        "id": "wiw1FdfRqwFq"
      },
      "source": [
        "## Input"
      ]
    },
    {
      "cell_type": "markdown",
      "source": [
        "Aqui, é possível adicionar novos valores para cada feature e predizer o risco para estes novos dados."
      ],
      "metadata": {
        "id": "tpgg7mamFwAH"
      }
    },
    {
      "cell_type": "markdown",
      "metadata": {
        "id": "yXqjiOrf2vMs"
      },
      "source": [
        "**pregnancy_history** -> Já ficou grávida?: Sim (2) / Não (1)<br>\n",
        "**menarche** -> Grupo da primeira menstruação: Infância (3) / Pré-adolescência (2) / Adolescência (1) <br>\n",
        "**diag_age** -> Idade no diagnóstico <br>\n",
        "**period** -> Status da menopausa: Pré-menopausa (2) / Pós-menopausa (1) <br>\n",
        "**bmi** -> IMC: Normal (0) / Abaixo do peso (1) / Acima do peso (2) / Obeso (3) / Extremamente obeso (4) <br>\n",
        "**hormone_therapy** -> Fez terapia de reposição hormonal?: Sim (2) / Não (1)<br>\n",
        "**antec_fam_cancer_mama** -> Tem antecedente familiar?: Sim (2) / Não (1)<br>\n",
        "**tobaco** -> Faz uso de tabaco?: Sim (2) / Não (1)<br>\n",
        "**alcohol** -> Faz uso de álcool?: Sim (2) / Não (1)<br>\n",
        "**birads** -> BiRads: 0 (0) / 1 (1) / 2 (2) / 3 (3) / 4 (4) / 5 (5) / 6 (6)<br>\n",
        "**ultinfo** -> Última informação: Viva com câncer (1) / Viva sem câncer (2) / Óbito por câncer (3) / Óbito por outras causas (4) <br>\n",
        "**primary_diganosis** -> Diagnóstico primário: 0 / 2 / 3 / 4 / 5 / 6 / 7 / 8 / 9/ 10 / 11 / 12 / 13 / 14 / 15 / 16 / 18 / 19<br>\n",
        "**histological_grade** -> Grau histológico: 0 / 1 / 2 / 3 <br>\n",
        "**grau_hist** -> Grau histológico de Nottingham: 0 / 1 / 2 / 3 <br>\n",
        "**tumor_subtype** -> Subtipo do tumor: 1 / 2 / 3 / 4 <br>\n",
        "**tumor_stage** -> Estadio Clínico: 1A (11) / 1B (12) / 1C (13) / 1D (14) 2A (21) / 2B (22) / 2C (23) / 2D (24) / 3A (31) / 3B (32) / 3C (33) / 3D (34) / 4A (41) / 4B (42) / 4C (43) / 4D (44) <br>\n",
        "**treatment** -> Regime de tratamento: Não fez quimioterapia (0) / Terapia adjuvante (1) / Terapia neoadjuvante (2) / Paliativo (3) / Terapia neoadjuvante sanduíche (Quimioterapia + Cirurgia + Quimioterapia) (4) <br>"
      ]
    },
    {
      "cell_type": "code",
      "source": [
        "pregnancy_history = 2\n",
        "menarche = 1\n",
        "diag_age\t= 40\n",
        "period\t= 2\n",
        "bmi\t= 0\n",
        "hormone_therapy\t= 1\n",
        "antec_fam_cancer_mama\t= 2\n",
        "tobaco\t= 1\n",
        "alcohol\t= 2\n",
        "birads\t= 6\n",
        "ultinfo\t= 1\n",
        "primary_diganosis = 8\n",
        "histological_grade = 2\n",
        "grau_hist\t= 3\n",
        "tumor_subtype\t= 4\n",
        "tumor_stage\t= 31\n",
        "treatment\t= 0"
      ],
      "metadata": {
        "id": "_eFGKSsQFeBD"
      },
      "execution_count": null,
      "outputs": []
    },
    {
      "cell_type": "code",
      "execution_count": null,
      "metadata": {
        "id": "9vEKa3OMqzX8",
        "colab": {
          "base_uri": "https://localhost:8080/",
          "height": 311
        },
        "outputId": "dffaae06-e831-491b-816e-e881550f9b49"
      },
      "outputs": [
        {
          "output_type": "stream",
          "name": "stderr",
          "text": [
            "/usr/local/lib/python3.7/dist-packages/sklearn/base.py:451: UserWarning: X does not have valid feature names, but RandomForestClassifier was fitted with feature names\n",
            "  \"X does not have valid feature names, but\"\n"
          ]
        },
        {
          "output_type": "display_data",
          "data": {
            "text/plain": [
              "<PIL.Image.Image image mode=RGB size=380x225 at 0x7F228A9F2FD0>"
            ],
            "image/png": "[encoded data removed]"
          },
          "metadata": {}
        },
        {
          "output_type": "stream",
          "name": "stdout",
          "text": [
            "\n",
            "                  Risco Baixo                  \n"
          ]
        }
      ],
      "source": [
        "import numpy as np\n",
        "import cv2\n",
        "from google.colab.patches import cv2_imshow\n",
        "\n",
        "features = np.array([[pregnancy_history,\tmenarche,\tdiag_age,\tperiod,\tbmi,\thormone_therapy,\tantec_fam_cancer_mama,\ttobaco,\talcohol, birads,\tultinfo,\tprimary_diganosis,\thistological_grade,\tgrau_hist,\ttumor_subtype,\ttumor_stage,\ttreatment]])\n",
        "prediction = model_random_forest.predict(features)\n",
        "\n",
        "if prediction == 'High OS':\n",
        "  # Criando uma imagem preta para servir de fundo\n",
        "  img = np.zeros((225, 380, 3), dtype = \"uint8\")\n",
        "  \n",
        "  # Criando um retângulo vermelho\n",
        "  cv2.rectangle(img, (30, 30), (350, 200), (0, 0, 255), -1)\n",
        "    \n",
        "  cv2_imshow(img)\n",
        "  print('')\n",
        "  text = 'RISCO ALTO!'\n",
        "  text = text.center(47, ' ')\n",
        "  print(text)\n",
        "else:\n",
        "  # Criando uma imagem preta para servir de fundo\n",
        "  img = np.zeros((225, 380, 3), dtype = \"uint8\")\n",
        "  \n",
        "  # Criando um retângulo verde\n",
        "  cv2.rectangle(img, (30, 30), (350, 200), (0, 255, 0), -1)\n",
        "    \n",
        "  cv2_imshow(img)\n",
        "  print('')\n",
        "  text = 'Risco Baixo'\n",
        "  text = text.center(47, ' ')\n",
        "  print(text)"
      ]
    }
  ],
  "metadata": {
    "colab": {
      "collapsed_sections": [
        "6EMqlgKskAd8",
        "sN5HFVdovjn8",
        "kQq76mlAOIbb",
        "bS4-Zf9ZHFVX",
        "kUKaOxOEHJTr",
        "3gWueGqlSSBV",
        "M422PP0psKkS",
        "sU2a1s5SQbuN",
        "XCgZKf67Q3K8",
        "LlSIFHtRZHAl",
        "M3BD829AQ-Ip",
        "W07HIOQgQuLi",
        "HPqqqpp9ME1V",
        "QBgEaeKn1Diw",
        "qPr7V0qaRBe1",
        "lvJv38QUREjH",
        "P60fzdDRQWJ9",
        "Ba9yTyPeQfcF",
        "HjSsgAEWQvbr",
        "z1z1QpCr1j5p",
        "AkItd4sbQ4PE",
        "D_swu2qMZVTc",
        "o7g-2lG0Q_Sz",
        "x7S9jzdnRCiJ",
        "bgxmOg18RFaw"
      ],
      "provenance": []
    },
    "kernelspec": {
      "display_name": "Python 3",
      "name": "python3"
    },
    "language_info": {
      "name": "python"
    }
  },
  "nbformat": 4,
  "nbformat_minor": 0
}