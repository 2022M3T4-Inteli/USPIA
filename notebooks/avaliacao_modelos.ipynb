{
  "cells": [
    {
      "cell_type": "code",
      "execution_count": null,
      "metadata": {
        "id": "4gL6SKRUP7GD"
      },
      "outputs": [],
      "source": [
        "from sklearn.metrics import mean_squared_error, mean_absolute_error, r2_score\n",
        "from sklearn.linear_model import LinearRegression\n",
        "from sklearn.model_selection import train_test_split\n",
        "from sklearn.naive_bayes import GaussianNB\n",
        "from sklearn.tree import DecisionTreeClassifier\n",
        "from sklearn import metrics\n",
        "import matplotlib.pyplot as plt\n",
        "from sklearn.metrics import plot_confusion_matrix\n",
        "from sklearn.tree import plot_tree\n",
        "import seaborn as sns\n",
        "import matplotlib.pyplot as plt\n",
        "import pandas as pd\n",
        "\n",
        "from sklearn import neighbors\n",
        "from sklearn.metrics import classification_report"
      ]
    },
    {
      "cell_type": "code",
      "source": [
        "from google_drive_downloader import GoogleDriveDownloader as gdd\n",
        "\n",
        "data_google_id = '1ZmMHa_lD1eYCEbluLrRYYiTHuiyhXK8F'\n",
        "gdd.download_file_from_google_drive(file_id=data_google_id, \n",
        "                                    dest_path = './new_manipulated_usp_data.csv', \n",
        "                                    showsize = True)\n",
        "\n",
        "data_google_id2 = '1TmInpL1cXCxbbMJqiWnSuevsRy5ovbIn'\n",
        "gdd.download_file_from_google_drive(file_id=data_google_id2, \n",
        "                                    dest_path = './BDIP_Mama_INTELI.xlsx', \n",
        "                                    showsize = True)\n",
        "\n",
        "data_base = pd.read_csv(\"new_manipulated_usp_data.csv\")\n",
        "data_os = pd.read_excel(\"BDIP_Mama_INTELI.xlsx\")\n",
        "\n",
        "data_os = data_os.drop_duplicates('record_id', keep = 'first', ignore_index = True)\n",
        "data_os = data_os['output_os']\n",
        "\n",
        "data_base = data_base.assign(output_os = data_os)\n",
        "data_base = data_base.dropna(axis = 0)"
      ],
      "metadata": {
        "id": "eyySuF7q03Gs",
        "colab": {
          "base_uri": "https://localhost:8080/"
        },
        "outputId": "0cf93428-f63c-4c8c-c1c7-75a8eaa9d6d8"
      },
      "execution_count": null,
      "outputs": [
        {
          "output_type": "stream",
          "name": "stdout",
          "text": [
            "Downloading 1ZmMHa_lD1eYCEbluLrRYYiTHuiyhXK8F into ./new_manipulated_usp_data.csv... \n",
            "320.0 KiB Done.\n",
            "Downloading 1TmInpL1cXCxbbMJqiWnSuevsRy5ovbIn into ./BDIP_Mama_INTELI.xlsx... \n",
            "2.4 MiB Done.\n"
          ]
        }
      ]
    },
    {
      "cell_type": "code",
      "source": [
        "life_data = data_base.drop(data_base[(data_base.ultinfo == 1) | (data_base.ultinfo == 3) | (data_base.ultinfo == 4)].index)"
      ],
      "metadata": {
        "id": "8RxlY4n0F8VQ"
      },
      "execution_count": null,
      "outputs": []
    },
    {
      "cell_type": "code",
      "source": [
        "death_data = data_base.drop(data_base[(data_base.ultinfo == 1) | (data_base.ultinfo == 2) | (data_base.ultinfo == 4)].index)"
      ],
      "metadata": {
        "id": "UNbLTaEYG3Sd"
      },
      "execution_count": null,
      "outputs": []
    },
    {
      "cell_type": "markdown",
      "source": [
        "Decidimos testar o modelo para pessoas que estão vivas sem câncer e para pessoas que vieram a óbito por câncer, além de todos juntos, a fim de analisar se os resultados são semelhantes ou se há comportamentos distintos."
      ],
      "metadata": {
        "id": "zzRZ5r3V5hMF"
      }
    },
    {
      "cell_type": "markdown",
      "source": [
        "#Todos os dados"
      ],
      "metadata": {
        "id": "tljU32NfP962"
      }
    },
    {
      "cell_type": "markdown",
      "source": [
        "Os modelos foram escolhidos a partir da sua acurácia e do número de falsos Low OS (falsos positivos). Essas métricas foram escolhidas pois supomos que é pior predizer que o risco da paciente é baixo mas na realidade é alto. Além disso, a acurácia engloba todos os tipos de acertos e erros, representando a assertividade do modelo de forma completa."
      ],
      "metadata": {
        "id": "nTSRZMRddHEC"
      }
    },
    {
      "cell_type": "markdown",
      "source": [
        "###KNN"
      ],
      "metadata": {
        "id": "kQq76mlAOIbb"
      }
    },
    {
      "cell_type": "markdown",
      "source": [
        "O modelo KNN leva em consideração a classificação dos pontos mais próximos para determinar a classificação do novo ponto.\n",
        "\n",
        "Ele foi escolhido por não ter uma acurácia tão baixa e por ter o menor erro em predizer High OS como Low OS."
      ],
      "metadata": {
        "id": "SlrdH42ye8tI"
      }
    },
    {
      "cell_type": "code",
      "source": [
        "x = data_base.drop(columns=['record_id', 'output_os', 'progesteron_perct', 'er_percentage'])\n",
        "y = data_base['output_os']\n",
        "\n",
        "x_train, x_test, y_train, y_test = train_test_split(x, y, test_size = 0.3, random_state = 42)\n",
        "\n",
        "model_knn = neighbors.KNeighborsClassifier(n_neighbors = 6).fit(x_train, y_train)\n",
        "\n",
        "y_pred = model_knn.predict(x_test)\n",
        "\n",
        "matriz = plot_confusion_matrix(model_knn, x_test, y_test, cmap = 'Blues', values_format='.0f')\n",
        "\n",
        "print(classification_report(y_test, y_pred))\n",
        "\n",
        "y_test.value_counts()"
      ],
      "metadata": {
        "colab": {
          "base_uri": "https://localhost:8080/",
          "height": 542
        },
        "id": "U3zCpVAbOJck",
        "outputId": "04e4ba77-61d0-4f77-b72f-eb6bdb18670c"
      },
      "execution_count": null,
      "outputs": [
        {
          "output_type": "stream",
          "name": "stderr",
          "text": [
            "/usr/local/lib/python3.7/dist-packages/sklearn/utils/deprecation.py:87: FutureWarning: Function plot_confusion_matrix is deprecated; Function `plot_confusion_matrix` is deprecated in 1.0 and will be removed in 1.2. Use one of the class methods: ConfusionMatrixDisplay.from_predictions or ConfusionMatrixDisplay.from_estimator.\n",
            "  warnings.warn(msg, category=FutureWarning)\n"
          ]
        },
        {
          "output_type": "stream",
          "name": "stdout",
          "text": [
            "              precision    recall  f1-score   support\n",
            "\n",
            "     High OS       0.61      0.71      0.66       572\n",
            "      Low OS       0.65      0.54      0.59       559\n",
            "\n",
            "    accuracy                           0.63      1131\n",
            "   macro avg       0.63      0.63      0.63      1131\n",
            "weighted avg       0.63      0.63      0.63      1131\n",
            "\n"
          ]
        },
        {
          "output_type": "execute_result",
          "data": {
            "text/plain": [
              "High OS    572\n",
              "Low OS     559\n",
              "Name: output_os, dtype: int64"
            ]
          },
          "metadata": {},
          "execution_count": 5
        },
        {
          "output_type": "display_data",
          "data": {
            "text/plain": [
              "<Figure size 432x288 with 2 Axes>"
            ],
            "image/png": "[encoded data removed]"
          },
          "metadata": {
            "needs_background": "light"
          }
        }
      ]
    },
    {
      "cell_type": "markdown",
      "metadata": {
        "id": "GzxcgQSw0SJV"
      },
      "source": [
        "##Random Forest"
      ]
    },
    {
      "cell_type": "markdown",
      "source": [
        "O modelo Random Forest cria várias árvores de decisão, uma estrutura similar a um fluxograma, com “nós” onde uma condição é verificada, e se atendida o fluxo segue por um ramo, caso contrário, por outro, sempre levando ao próximo nó, até a finalização da árvore. No fim há uma votação de um resultado final.\n",
        "\n",
        "Ele foi escolhido por ter uma das melhores acurácias e um dos menores erros em predizer High OS como Low OS."
      ],
      "metadata": {
        "id": "-fLHaYIFgHYJ"
      }
    },
    {
      "cell_type": "code",
      "execution_count": null,
      "metadata": {
        "colab": {
          "base_uri": "https://localhost:8080/",
          "height": 490
        },
        "outputId": "a201462f-2466-4ac1-bf52-29e6809365b4",
        "id": "s4d1uTx40SJb"
      },
      "outputs": [
        {
          "output_type": "stream",
          "name": "stderr",
          "text": [
            "/usr/local/lib/python3.7/dist-packages/sklearn/utils/deprecation.py:87: FutureWarning: Function plot_confusion_matrix is deprecated; Function `plot_confusion_matrix` is deprecated in 1.0 and will be removed in 1.2. Use one of the class methods: ConfusionMatrixDisplay.from_predictions or ConfusionMatrixDisplay.from_estimator.\n",
            "  warnings.warn(msg, category=FutureWarning)\n"
          ]
        },
        {
          "output_type": "stream",
          "name": "stdout",
          "text": [
            "              precision    recall  f1-score   support\n",
            "\n",
            "     High OS       0.64      0.67      0.66       572\n",
            "      Low OS       0.65      0.61      0.63       559\n",
            "\n",
            "    accuracy                           0.64      1131\n",
            "   macro avg       0.64      0.64      0.64      1131\n",
            "weighted avg       0.64      0.64      0.64      1131\n",
            "\n"
          ]
        },
        {
          "output_type": "display_data",
          "data": {
            "text/plain": [
              "<Figure size 432x288 with 2 Axes>"
            ],
            "image/png": "[encoded data removed]"
          },
          "metadata": {
            "needs_background": "light"
          }
        }
      ],
      "source": [
        "from sklearn.ensemble import RandomForestClassifier\n",
        "\n",
        "x = data_base.drop(columns=['record_id', 'output_os', 'follow_up_days_recidive', 'progesteron_perct', 'er_percentage'])\n",
        "y = data_base['output_os']\n",
        "\n",
        "x_train, x_test, y_train, y_test = train_test_split(x, y, test_size = 0.3, random_state = 42)\n",
        "\n",
        "modelMin = RandomForestClassifier(criterion='entropy')\n",
        "modelMin.fit(x_train, y_train)\n",
        "yPredMin = modelMin.predict(x_test)\n",
        "\n",
        "#f,gMin = plt.subplots(figsize=(100, 50))\n",
        "#arvoreMin  = plot_tree(modelMin, rounded=True,ax=gMin,\n",
        "              #feature_names=[\"pregnancy_history\", \"menarche\", \"diag_age\", \"period\", \"bmi\", \"hormone_therapy\", \"antec_fam_cancer_mama\", \"tobaco\", \"alcohol\", \"birads\", \"ultinfo\", 'follow_up_days', 'primary_diganosis', 'histological_grade', 'grau_hist', 'tumor_subtype'])\n",
        "matriz = plot_confusion_matrix(modelMin, x_test, y_test, cmap = 'Blues', values_format='.0f')\n",
        "\n",
        "print(classification_report(y_test, yPredMin))"
      ]
    },
    {
      "cell_type": "markdown",
      "source": [
        "##Boosting"
      ],
      "metadata": {
        "id": "QBL3PDG-sTyN"
      }
    },
    {
      "cell_type": "markdown",
      "source": [
        "No Boosting os modelos são treinados com os mesmos datasets, porém os pesos das instâncias são ajustados de acordo com o erro das predições anteriores.\n",
        "\n",
        "Ele foi escolhido por ter uma das melhores acurácias e um dos menores erros em predizer High OS como Low OS."
      ],
      "metadata": {
        "id": "GJeS1Svdgozr"
      }
    },
    {
      "cell_type": "code",
      "source": [
        "from lightgbm import LGBMClassifier\n",
        "\n",
        "# Dividindo x e y\n",
        "x = data_base.drop(columns=['record_id', 'output_os', 'follow_up_days_recidive', 'progesteron_perct', 'er_percentage'])\n",
        "y = data_base['output_os']\n",
        "\n",
        "# Dividindo dados para treino e dados para teste\n",
        "x_train, x_test, y_train, y_test = train_test_split(x, y, test_size = 0.3, random_state = 42)\n",
        "\n",
        "modelLGBM = LGBMClassifier(n_estimators=100, random_state=0)\n",
        "modelLGBM.fit(x_train, y_train)\n",
        "\n",
        "y_pred = modelLGBM.predict(x_test)\n",
        "\n",
        "matriz = plot_confusion_matrix(modelLGBM, x_test, y_test, cmap = 'Blues', values_format='.0f')\n",
        "\n",
        "print(classification_report(y_test, y_pred))"
      ],
      "metadata": {
        "colab": {
          "base_uri": "https://localhost:8080/",
          "height": 490
        },
        "id": "BgAkZjnUpnd8",
        "outputId": "0ed26662-3704-489a-e28f-b3d6835c75b4"
      },
      "execution_count": null,
      "outputs": [
        {
          "output_type": "stream",
          "name": "stderr",
          "text": [
            "/usr/local/lib/python3.7/dist-packages/sklearn/utils/deprecation.py:87: FutureWarning: Function plot_confusion_matrix is deprecated; Function `plot_confusion_matrix` is deprecated in 1.0 and will be removed in 1.2. Use one of the class methods: ConfusionMatrixDisplay.from_predictions or ConfusionMatrixDisplay.from_estimator.\n",
            "  warnings.warn(msg, category=FutureWarning)\n"
          ]
        },
        {
          "output_type": "stream",
          "name": "stdout",
          "text": [
            "              precision    recall  f1-score   support\n",
            "\n",
            "     High OS       0.64      0.69      0.66       572\n",
            "      Low OS       0.66      0.61      0.63       559\n",
            "\n",
            "    accuracy                           0.65      1131\n",
            "   macro avg       0.65      0.65      0.65      1131\n",
            "weighted avg       0.65      0.65      0.65      1131\n",
            "\n"
          ]
        },
        {
          "output_type": "display_data",
          "data": {
            "text/plain": [
              "<Figure size 432x288 with 2 Axes>"
            ],
            "image/png": "[encoded data removed]"
          },
          "metadata": {
            "needs_background": "light"
          }
        }
      ]
    },
    {
      "cell_type": "markdown",
      "source": [
        "Os modelos abaixo foram descartados por possuírem acurácias mais baixas ou por terem um erro maior em predizer High OS como Low OS."
      ],
      "metadata": {
        "id": "qmkc_84yeWxD"
      }
    },
    {
      "cell_type": "markdown",
      "metadata": {
        "id": "bS4-Zf9ZHFVX"
      },
      "source": [
        "##Bayes"
      ]
    },
    {
      "cell_type": "code",
      "execution_count": null,
      "metadata": {
        "colab": {
          "base_uri": "https://localhost:8080/",
          "height": 490
        },
        "id": "cWtoj2rjG-Rs",
        "outputId": "04447850-8b1c-4b44-8988-c20bd6431474"
      },
      "outputs": [
        {
          "output_type": "stream",
          "name": "stdout",
          "text": [
            "              precision    recall  f1-score   support\n",
            "\n",
            "     High OS       0.75      0.24      0.36       572\n",
            "      Low OS       0.54      0.92      0.68       559\n",
            "\n",
            "    accuracy                           0.57      1131\n",
            "   macro avg       0.64      0.58      0.52      1131\n",
            "weighted avg       0.64      0.57      0.52      1131\n",
            "\n"
          ]
        },
        {
          "output_type": "stream",
          "name": "stderr",
          "text": [
            "/usr/local/lib/python3.7/dist-packages/sklearn/utils/deprecation.py:87: FutureWarning: Function plot_confusion_matrix is deprecated; Function `plot_confusion_matrix` is deprecated in 1.0 and will be removed in 1.2. Use one of the class methods: ConfusionMatrixDisplay.from_predictions or ConfusionMatrixDisplay.from_estimator.\n",
            "  warnings.warn(msg, category=FutureWarning)\n"
          ]
        },
        {
          "output_type": "display_data",
          "data": {
            "text/plain": [
              "<Figure size 432x288 with 2 Axes>"
            ],
            "image/png": "[encoded data removed]"
          },
          "metadata": {
            "needs_background": "light"
          }
        }
      ],
      "source": [
        "x = data_base.drop(columns=['record_id', 'output_os', 'follow_up_days_recidive', 'progesteron_perct', 'er_percentage'])\n",
        "y = data_base['output_os']\n",
        "\n",
        "x_train, x_test, y_train, y_test = train_test_split(x, y, test_size = 0.3, random_state = 42)\n",
        "\n",
        "model = GaussianNB().fit(x_train, y_train)\n",
        "\n",
        "y_pred = model.predict(x_test)\n",
        "\n",
        "matriz = plot_confusion_matrix(model, x_test, y_test, cmap = 'Blues', values_format='.0f')\n",
        "\n",
        "print(classification_report(y_test, y_pred))"
      ]
    },
    {
      "cell_type": "markdown",
      "metadata": {
        "id": "kUKaOxOEHJTr"
      },
      "source": [
        "##Árvore"
      ]
    },
    {
      "cell_type": "code",
      "execution_count": null,
      "metadata": {
        "colab": {
          "base_uri": "https://localhost:8080/"
        },
        "id": "fh78QBK9UnEm",
        "outputId": "cee76849-3a82-4a46-8e87-77d79a289c01"
      },
      "outputs": [
        {
          "output_type": "stream",
          "name": "stderr",
          "text": [
            "/usr/local/lib/python3.7/dist-packages/sklearn/utils/deprecation.py:87: FutureWarning: Function plot_confusion_matrix is deprecated; Function `plot_confusion_matrix` is deprecated in 1.0 and will be removed in 1.2. Use one of the class methods: ConfusionMatrixDisplay.from_predictions or ConfusionMatrixDisplay.from_estimator.\n",
            "  warnings.warn(msg, category=FutureWarning)\n"
          ]
        },
        {
          "output_type": "stream",
          "name": "stdout",
          "text": [
            "              precision    recall  f1-score   support\n",
            "\n",
            "     High OS       0.59      0.60      0.59       572\n",
            "      Low OS       0.58      0.58      0.58       559\n",
            "\n",
            "    accuracy                           0.59      1131\n",
            "   macro avg       0.59      0.59      0.59      1131\n",
            "weighted avg       0.59      0.59      0.59      1131\n",
            "\n"
          ]
        },
        {
          "output_type": "display_data",
          "data": {
            "text/plain": [
              "<Figure size 432x288 with 2 Axes>"
            ],
            "image/png": "[encoded data removed]"
          },
          "metadata": {
            "needs_background": "light"
          }
        }
      ],
      "source": [
        "x = data_base.drop(columns=['record_id', 'output_os', 'follow_up_days_recidive', 'progesteron_perct', 'er_percentage'])\n",
        "y = data_base['output_os']\n",
        "\n",
        "x_train, x_test, y_train, y_test = train_test_split(x, y, test_size = 0.3, random_state = 42)\n",
        "\n",
        "modelMin = DecisionTreeClassifier(criterion='entropy')\n",
        "modelMin.fit(x_train, y_train)\n",
        "yPredMin = modelMin.predict(x_test)\n",
        "\n",
        "#f,gMin = plt.subplots(figsize=(100, 50))\n",
        "#arvoreMin  = plot_tree(modelMin, rounded=True,ax=gMin,\n",
        "              #feature_names=[\"pregnancy_history\", \"menarche\", \"diag_age\", \"period\", \"bmi\", \"hormone_therapy\", \"antec_fam_cancer_mama\", \"tobaco\", \"alcohol\", \"birads\", \"ultinfo\", 'follow_up_days', 'primary_diganosis', 'histological_grade', 'grau_hist', 'tumor_subtype'])\n",
        "matriz = plot_confusion_matrix(modelMin, x_test, y_test, cmap = 'Blues', values_format='.0f')\n",
        "\n",
        "print(classification_report(y_test, yPredMin))"
      ]
    },
    {
      "cell_type": "markdown",
      "source": [
        "##Regressão Logística"
      ],
      "metadata": {
        "id": "6EMqlgKskAd8"
      }
    },
    {
      "cell_type": "code",
      "source": [
        "from sklearn.linear_model import LogisticRegression\n",
        "\n",
        "# Dividindo x e y\n",
        "x = data_base.drop(columns=['record_id', 'output_os', 'follow_up_days_recidive', 'progesteron_perct', 'er_percentage'])\n",
        "y = data_base['output_os']\n",
        "\n",
        "# Dividindo dados para treino e dados para teste\n",
        "x_train, x_test, y_train, y_test = train_test_split(x, y, test_size = 0.3, random_state = 42)\n",
        "\n",
        "# Treinando o modelo\n",
        "model_logistic = LogisticRegression(max_iter = 500).fit(x_train, y_train)\n",
        "\n",
        "# Fazendo as predições\n",
        "y_pred = model_logistic.predict(x_test)\n",
        "\n",
        "matriz = plot_confusion_matrix(model_logistic, x_test, y_test, cmap = 'Blues', values_format='.0f')\n",
        "\n",
        "print(classification_report(y_test, y_pred))"
      ],
      "metadata": {
        "colab": {
          "base_uri": "https://localhost:8080/"
        },
        "id": "yf8bbR7bjE92",
        "outputId": "7b45fe7e-b877-4e03-8461-b9585ab84162"
      },
      "execution_count": null,
      "outputs": [
        {
          "output_type": "stream",
          "name": "stderr",
          "text": [
            "/usr/local/lib/python3.7/dist-packages/sklearn/utils/deprecation.py:87: FutureWarning: Function plot_confusion_matrix is deprecated; Function `plot_confusion_matrix` is deprecated in 1.0 and will be removed in 1.2. Use one of the class methods: ConfusionMatrixDisplay.from_predictions or ConfusionMatrixDisplay.from_estimator.\n",
            "  warnings.warn(msg, category=FutureWarning)\n"
          ]
        },
        {
          "output_type": "stream",
          "name": "stdout",
          "text": [
            "              precision    recall  f1-score   support\n",
            "\n",
            "     High OS       0.66      0.63      0.65       572\n",
            "      Low OS       0.64      0.67      0.66       559\n",
            "\n",
            "    accuracy                           0.65      1131\n",
            "   macro avg       0.65      0.65      0.65      1131\n",
            "weighted avg       0.65      0.65      0.65      1131\n",
            "\n"
          ]
        },
        {
          "output_type": "display_data",
          "data": {
            "text/plain": [
              "<Figure size 432x288 with 2 Axes>"
            ],
            "image/png": "[encoded data removed]"
          },
          "metadata": {
            "needs_background": "light"
          }
        }
      ]
    },
    {
      "cell_type": "markdown",
      "source": [
        "##SVM"
      ],
      "metadata": {
        "id": "3gWueGqlSSBV"
      }
    },
    {
      "cell_type": "code",
      "source": [
        "from sklearn import svm\n",
        "# Dividindo x e y\n",
        "x = data_base.drop(columns=['record_id', 'output_os', 'follow_up_days_recidive', 'progesteron_perct', 'er_percentage'])\n",
        "y = data_base['output_os']\n",
        "\n",
        "# Dividindo dados para treino e dados para teste\n",
        "x_train, x_test, y_train, y_test = train_test_split(x, y, test_size = 0.3, random_state = 42)\n",
        "\n",
        "# Treinando o modelo\n",
        "model_svm = svm.SVC().fit(x_train, y_train)\n",
        "\n",
        "# Fazendo as predições\n",
        "y_pred = model_svm.predict(x_test)\n",
        "\n",
        "matriz = plot_confusion_matrix(model_svm, x_test, y_test, cmap = 'Blues', values_format='.0f')\n",
        "\n",
        "print(classification_report(y_test, y_pred))"
      ],
      "metadata": {
        "colab": {
          "base_uri": "https://localhost:8080/"
        },
        "id": "3gG4sUgORzj2",
        "outputId": "9bdb5018-958d-454f-a391-d55efe5708cd"
      },
      "execution_count": null,
      "outputs": [
        {
          "output_type": "stream",
          "name": "stderr",
          "text": [
            "/usr/local/lib/python3.7/dist-packages/sklearn/utils/deprecation.py:87: FutureWarning: Function plot_confusion_matrix is deprecated; Function `plot_confusion_matrix` is deprecated in 1.0 and will be removed in 1.2. Use one of the class methods: ConfusionMatrixDisplay.from_predictions or ConfusionMatrixDisplay.from_estimator.\n",
            "  warnings.warn(msg, category=FutureWarning)\n"
          ]
        },
        {
          "output_type": "stream",
          "name": "stdout",
          "text": [
            "              precision    recall  f1-score   support\n",
            "\n",
            "     High OS       0.75      0.43      0.55       572\n",
            "      Low OS       0.59      0.85      0.70       559\n",
            "\n",
            "    accuracy                           0.64      1131\n",
            "   macro avg       0.67      0.64      0.62      1131\n",
            "weighted avg       0.67      0.64      0.62      1131\n",
            "\n"
          ]
        },
        {
          "output_type": "display_data",
          "data": {
            "text/plain": [
              "<Figure size 432x288 with 2 Axes>"
            ],
            "image/png": "[encoded data removed]"
          },
          "metadata": {
            "needs_background": "light"
          }
        }
      ]
    },
    {
      "cell_type": "markdown",
      "source": [
        "##Stacking"
      ],
      "metadata": {
        "id": "M422PP0psKkS"
      }
    },
    {
      "cell_type": "code",
      "source": [
        "from sklearn.ensemble import VotingClassifier, StackingClassifier\n",
        "\n",
        "# Dividindo x e y\n",
        "x = data_base.drop(columns=['record_id', 'output_os', 'follow_up_days_recidive', 'progesteron_perct', 'er_percentage'])\n",
        "y = data_base['output_os']\n",
        "\n",
        "# Dividindo dados para treino e dados para teste\n",
        "x_train, x_test, y_train, y_test = train_test_split(x, y, test_size = 0.3, random_state = 42)\n",
        "\n",
        "model_stacking = StackingClassifier(estimators=[('knn',model_knn), ('logistic',model_logistic)])\n",
        "model_stacking.fit(x_train, y_train)\n",
        "\n",
        "y_pred = model_stacking.predict(x_test)\n",
        "\n",
        "matriz = plot_confusion_matrix(model_stacking, x_test, y_test, cmap = 'Blues', values_format='.0f')\n",
        "\n",
        "print(classification_report(y_test, y_pred))"
      ],
      "metadata": {
        "colab": {
          "base_uri": "https://localhost:8080/",
          "height": 906
        },
        "id": "6THjA-DOm24Q",
        "outputId": "0284ef64-d145-49d7-da6b-4d012e6b3109"
      },
      "execution_count": null,
      "outputs": [
        {
          "output_type": "stream",
          "name": "stderr",
          "text": [
            "/usr/local/lib/python3.7/dist-packages/sklearn/linear_model/_logistic.py:818: ConvergenceWarning: lbfgs failed to converge (status=1):\n",
            "STOP: TOTAL NO. of ITERATIONS REACHED LIMIT.\n",
            "\n",
            "Increase the number of iterations (max_iter) or scale the data as shown in:\n",
            "    https://scikit-learn.org/stable/modules/preprocessing.html\n",
            "Please also refer to the documentation for alternative solver options:\n",
            "    https://scikit-learn.org/stable/modules/linear_model.html#logistic-regression\n",
            "  extra_warning_msg=_LOGISTIC_SOLVER_CONVERGENCE_MSG,\n",
            "/usr/local/lib/python3.7/dist-packages/sklearn/linear_model/_logistic.py:818: ConvergenceWarning: lbfgs failed to converge (status=1):\n",
            "STOP: TOTAL NO. of ITERATIONS REACHED LIMIT.\n",
            "\n",
            "Increase the number of iterations (max_iter) or scale the data as shown in:\n",
            "    https://scikit-learn.org/stable/modules/preprocessing.html\n",
            "Please also refer to the documentation for alternative solver options:\n",
            "    https://scikit-learn.org/stable/modules/linear_model.html#logistic-regression\n",
            "  extra_warning_msg=_LOGISTIC_SOLVER_CONVERGENCE_MSG,\n",
            "/usr/local/lib/python3.7/dist-packages/sklearn/linear_model/_logistic.py:818: ConvergenceWarning: lbfgs failed to converge (status=1):\n",
            "STOP: TOTAL NO. of ITERATIONS REACHED LIMIT.\n",
            "\n",
            "Increase the number of iterations (max_iter) or scale the data as shown in:\n",
            "    https://scikit-learn.org/stable/modules/preprocessing.html\n",
            "Please also refer to the documentation for alternative solver options:\n",
            "    https://scikit-learn.org/stable/modules/linear_model.html#logistic-regression\n",
            "  extra_warning_msg=_LOGISTIC_SOLVER_CONVERGENCE_MSG,\n",
            "/usr/local/lib/python3.7/dist-packages/sklearn/utils/deprecation.py:87: FutureWarning: Function plot_confusion_matrix is deprecated; Function `plot_confusion_matrix` is deprecated in 1.0 and will be removed in 1.2. Use one of the class methods: ConfusionMatrixDisplay.from_predictions or ConfusionMatrixDisplay.from_estimator.\n",
            "  warnings.warn(msg, category=FutureWarning)\n"
          ]
        },
        {
          "output_type": "stream",
          "name": "stdout",
          "text": [
            "              precision    recall  f1-score   support\n",
            "\n",
            "     High OS       0.68      0.63      0.65       572\n",
            "      Low OS       0.65      0.69      0.67       559\n",
            "\n",
            "    accuracy                           0.66      1131\n",
            "   macro avg       0.66      0.66      0.66      1131\n",
            "weighted avg       0.66      0.66      0.66      1131\n",
            "\n"
          ]
        },
        {
          "output_type": "display_data",
          "data": {
            "text/plain": [
              "<Figure size 432x288 with 2 Axes>"
            ],
            "image/png": "[encoded data removed]"
          },
          "metadata": {
            "needs_background": "light"
          }
        }
      ]
    },
    {
      "cell_type": "markdown",
      "source": [
        "##Bagging"
      ],
      "metadata": {
        "id": "sN5HFVdovjn8"
      }
    },
    {
      "cell_type": "code",
      "source": [
        "from sklearn.ensemble import BaggingClassifier\n",
        "\n",
        "# Dividindo x e y\n",
        "x = data_base.drop(columns=['record_id', 'output_os', 'follow_up_days_recidive', 'progesteron_perct', 'er_percentage'])\n",
        "y = data_base['output_os']\n",
        "\n",
        "# Dividindo dados para treino e dados para teste\n",
        "x_train, x_test, y_train, y_test = train_test_split(x, y, test_size = 0.3, random_state = 42)\n",
        "\n",
        "model_bagging = BaggingClassifier().fit(x_train, y_train)\n",
        "\n",
        "y_pred = model_bagging.predict(x_test)\n",
        "\n",
        "matriz = plot_confusion_matrix(model_bagging, x_test, y_test, cmap = 'Blues', values_format='.0f')\n",
        "\n",
        "print(classification_report(y_test, y_pred))"
      ],
      "metadata": {
        "colab": {
          "base_uri": "https://localhost:8080/"
        },
        "id": "yxIIlj1Avla3",
        "outputId": "e8d241da-9585-4889-a80a-24ebec01b29a"
      },
      "execution_count": null,
      "outputs": [
        {
          "output_type": "stream",
          "name": "stderr",
          "text": [
            "/usr/local/lib/python3.7/dist-packages/sklearn/utils/deprecation.py:87: FutureWarning: Function plot_confusion_matrix is deprecated; Function `plot_confusion_matrix` is deprecated in 1.0 and will be removed in 1.2. Use one of the class methods: ConfusionMatrixDisplay.from_predictions or ConfusionMatrixDisplay.from_estimator.\n",
            "  warnings.warn(msg, category=FutureWarning)\n"
          ]
        },
        {
          "output_type": "stream",
          "name": "stdout",
          "text": [
            "              precision    recall  f1-score   support\n",
            "\n",
            "     High OS       0.61      0.70      0.65       572\n",
            "      Low OS       0.64      0.55      0.59       559\n",
            "\n",
            "    accuracy                           0.63      1131\n",
            "   macro avg       0.63      0.63      0.62      1131\n",
            "weighted avg       0.63      0.63      0.62      1131\n",
            "\n"
          ]
        },
        {
          "output_type": "display_data",
          "data": {
            "text/plain": [
              "<Figure size 432x288 with 2 Axes>"
            ],
            "image/png": "[encoded data removed]"
          },
          "metadata": {
            "needs_background": "light"
          }
        }
      ]
    },
    {
      "cell_type": "markdown",
      "source": [
        "#Pessoas vivas sem câncer"
      ],
      "metadata": {
        "id": "zSrGyDGaQEo7"
      }
    },
    {
      "cell_type": "markdown",
      "source": [
        "A partir do treinamento apenas com pessoas vivas foi possível identificar certos padrões. Os primeiros quatro modelos abaixo apresentaram maior taxa de erro nos falsos positivos (High OS como Low OS) enquanto os outros cinco apresentaram número de erros mais próximos entre falsos positivos e negativos."
      ],
      "metadata": {
        "id": "31Z_SPyKK3LV"
      }
    },
    {
      "cell_type": "markdown",
      "source": [
        "Ao percebemos isso, criamos uma hipótese que o modelo acertou sim várias vezes, porém como `output_os` era relativo se a pessoa estava acima ou abaixo do `follow_up_days`, ele misturava várias categorias de expectativa de vida de várias pessoas.\n",
        "\n",
        "Um bom exemplo visivel é que em `life_data` faz sentido muitos High OS (isto é, que possuíam risco gravíssimo de vida) serem classificados como Low OS, já que várias pessoas sobreviveram a luta contra o câncer, então fica mais fácil de predizer seu risco de vida."
      ],
      "metadata": {
        "id": "K0K5PSw9NFW9"
      }
    },
    {
      "cell_type": "markdown",
      "metadata": {
        "id": "sU2a1s5SQbuN"
      },
      "source": [
        "##Bayes"
      ]
    },
    {
      "cell_type": "code",
      "source": [
        "x = life_data.drop(columns=['record_id', 'output_os', 'follow_up_days_recidive', 'progesteron_perct', 'er_percentage'])\n",
        "y = life_data['output_os']\n",
        "\n",
        "x_train, x_test, y_train, y_test = train_test_split(x, y, test_size = 0.3, random_state = 42)\n",
        "\n",
        "model = GaussianNB().fit(x_train, y_train)\n",
        "\n",
        "y_pred = model.predict(x_test)\n",
        "\n",
        "matriz = plot_confusion_matrix(model, x_test, y_test, cmap = 'Blues', values_format='.0f')\n",
        "\n",
        "print(classification_report(y_test, y_pred))\n",
        "\n",
        "y_test.value_counts()"
      ],
      "metadata": {
        "colab": {
          "base_uri": "https://localhost:8080/",
          "height": 546
        },
        "outputId": "a502e355-fc1e-4353-d3a4-268539dd8a90",
        "id": "qx0FFSfMjbGz"
      },
      "execution_count": null,
      "outputs": [
        {
          "output_type": "stream",
          "name": "stderr",
          "text": [
            "/usr/local/lib/python3.7/dist-packages/sklearn/utils/deprecation.py:87: FutureWarning: Function plot_confusion_matrix is deprecated; Function `plot_confusion_matrix` is deprecated in 1.0 and will be removed in 1.2. Use one of the class methods: ConfusionMatrixDisplay.from_predictions or ConfusionMatrixDisplay.from_estimator.\n",
            "  warnings.warn(msg, category=FutureWarning)\n"
          ]
        },
        {
          "output_type": "stream",
          "name": "stdout",
          "text": [
            "              precision    recall  f1-score   support\n",
            "\n",
            "     High OS       0.61      0.09      0.16       387\n",
            "      Low OS       0.49      0.94      0.65       363\n",
            "\n",
            "    accuracy                           0.50       750\n",
            "   macro avg       0.55      0.51      0.40       750\n",
            "weighted avg       0.55      0.50      0.40       750\n",
            "\n"
          ]
        },
        {
          "output_type": "execute_result",
          "data": {
            "text/plain": [
              "High OS    387\n",
              "Low OS     363\n",
              "Name: output_os, dtype: int64"
            ]
          },
          "metadata": {},
          "execution_count": 15
        },
        {
          "output_type": "display_data",
          "data": {
            "text/plain": [
              "<Figure size 432x288 with 2 Axes>"
            ],
            "image/png": "[encoded data removed]"
          },
          "metadata": {
            "needs_background": "light"
          }
        }
      ]
    },
    {
      "cell_type": "markdown",
      "source": [
        "##Regressão Logística"
      ],
      "metadata": {
        "id": "XCgZKf67Q3K8"
      }
    },
    {
      "cell_type": "code",
      "source": [
        "from sklearn.linear_model import LogisticRegression\n",
        "\n",
        "# Dividindo x e y\n",
        "x = life_data.drop(columns=['record_id', 'output_os', 'follow_up_days_recidive', 'progesteron_perct', 'er_percentage'])\n",
        "y = life_data['output_os']\n",
        "\n",
        "# Dividindo dados para treino e dados para teste\n",
        "x_train, x_test, y_train, y_test = train_test_split(x, y, test_size = 0.3, random_state = 42)\n",
        "\n",
        "# Treinando o modelo\n",
        "model_logistic = LogisticRegression(max_iter = 500).fit(x_train, y_train)\n",
        "\n",
        "# Fazendo as predições\n",
        "y_pred = model_logistic.predict(x_test)\n",
        "\n",
        "matriz = plot_confusion_matrix(model_logistic, x_test, y_test, cmap = 'Blues', values_format='.0f')\n",
        "\n",
        "print(classification_report(y_test, y_pred))"
      ],
      "metadata": {
        "colab": {
          "base_uri": "https://localhost:8080/"
        },
        "outputId": "6f5efda0-d656-4838-f4f7-8fef140d2189",
        "id": "fnkFGb92Q3K9"
      },
      "execution_count": null,
      "outputs": [
        {
          "output_type": "stream",
          "name": "stderr",
          "text": [
            "/usr/local/lib/python3.7/dist-packages/sklearn/utils/deprecation.py:87: FutureWarning: Function plot_confusion_matrix is deprecated; Function `plot_confusion_matrix` is deprecated in 1.0 and will be removed in 1.2. Use one of the class methods: ConfusionMatrixDisplay.from_predictions or ConfusionMatrixDisplay.from_estimator.\n",
            "  warnings.warn(msg, category=FutureWarning)\n"
          ]
        },
        {
          "output_type": "stream",
          "name": "stdout",
          "text": [
            "              precision    recall  f1-score   support\n",
            "\n",
            "     High OS       0.70      0.60      0.64       387\n",
            "      Low OS       0.63      0.73      0.67       363\n",
            "\n",
            "    accuracy                           0.66       750\n",
            "   macro avg       0.66      0.66      0.66       750\n",
            "weighted avg       0.67      0.66      0.66       750\n",
            "\n"
          ]
        },
        {
          "output_type": "display_data",
          "data": {
            "text/plain": [
              "<Figure size 432x288 with 2 Axes>"
            ],
            "image/png": "[encoded data removed]"
          },
          "metadata": {
            "needs_background": "light"
          }
        }
      ]
    },
    {
      "cell_type": "markdown",
      "source": [
        "##SVM"
      ],
      "metadata": {
        "id": "LlSIFHtRZHAl"
      }
    },
    {
      "cell_type": "code",
      "source": [
        "from sklearn import svm\n",
        "# Dividindo x e y\n",
        "x = life_data.drop(columns=['record_id', 'output_os', 'follow_up_days_recidive', 'progesteron_perct', 'er_percentage'])\n",
        "y = life_data['output_os']\n",
        "\n",
        "# Dividindo dados para treino e dados para teste\n",
        "x_train, x_test, y_train, y_test = train_test_split(x, y, test_size = 0.3, random_state = 42)\n",
        "\n",
        "# Treinando o modelo\n",
        "model_svm = svm.SVC().fit(x_train, y_train)\n",
        "\n",
        "# Fazendo as predições\n",
        "y_pred = model_svm.predict(x_test)\n",
        "\n",
        "matriz = plot_confusion_matrix(model_svm, x_test, y_test, cmap = 'Blues', values_format='.0f')\n",
        "\n",
        "print(classification_report(y_test, y_pred))"
      ],
      "metadata": {
        "colab": {
          "base_uri": "https://localhost:8080/"
        },
        "outputId": "fefaa99e-2f9e-4f64-f389-165cd4fda031",
        "id": "Lh71SByfZHAm"
      },
      "execution_count": null,
      "outputs": [
        {
          "output_type": "stream",
          "name": "stderr",
          "text": [
            "/usr/local/lib/python3.7/dist-packages/sklearn/utils/deprecation.py:87: FutureWarning: Function plot_confusion_matrix is deprecated; Function `plot_confusion_matrix` is deprecated in 1.0 and will be removed in 1.2. Use one of the class methods: ConfusionMatrixDisplay.from_predictions or ConfusionMatrixDisplay.from_estimator.\n",
            "  warnings.warn(msg, category=FutureWarning)\n"
          ]
        },
        {
          "output_type": "stream",
          "name": "stdout",
          "text": [
            "              precision    recall  f1-score   support\n",
            "\n",
            "     High OS       0.73      0.46      0.57       387\n",
            "      Low OS       0.59      0.82      0.69       363\n",
            "\n",
            "    accuracy                           0.64       750\n",
            "   macro avg       0.66      0.64      0.63       750\n",
            "weighted avg       0.66      0.64      0.62       750\n",
            "\n"
          ]
        },
        {
          "output_type": "display_data",
          "data": {
            "text/plain": [
              "<Figure size 432x288 with 2 Axes>"
            ],
            "image/png": "[encoded data removed]"
          },
          "metadata": {
            "needs_background": "light"
          }
        }
      ]
    },
    {
      "cell_type": "markdown",
      "source": [
        "##Stacking"
      ],
      "metadata": {
        "id": "M3BD829AQ-Ip"
      }
    },
    {
      "cell_type": "code",
      "source": [
        "# OBS: regressão logística e KNN devem ser rodados antes de rodar essa célula\n",
        "\n",
        "from sklearn.ensemble import VotingClassifier, StackingClassifier\n",
        "\n",
        "# Dividindo x e y\n",
        "x = life_data.drop(columns=['record_id', 'output_os', 'follow_up_days_recidive', 'progesteron_perct', 'er_percentage'])\n",
        "y = life_data['output_os']\n",
        "\n",
        "# Dividindo dados para treino e dados para teste\n",
        "x_train, x_test, y_train, y_test = train_test_split(x, y, test_size = 0.3, random_state = 42)\n",
        "\n",
        "model_stacking = StackingClassifier(estimators=[('knn',model_knn), ('logistic',model_logistic)])\n",
        "model_stacking.fit(x_train, y_train)\n",
        "\n",
        "y_pred = model_stacking.predict(x_test)\n",
        "\n",
        "matriz = plot_confusion_matrix(model_stacking, x_test, y_test, cmap = 'Blues', values_format='.0f')\n",
        "\n",
        "print(classification_report(y_test, y_pred))"
      ],
      "metadata": {
        "colab": {
          "base_uri": "https://localhost:8080/",
          "height": 629
        },
        "outputId": "b4cd11fe-ce60-49f4-adf9-6da98b0a92fd",
        "id": "BW0U1iyLQ-Ir"
      },
      "execution_count": null,
      "outputs": [
        {
          "output_type": "stream",
          "name": "stderr",
          "text": [
            "/usr/local/lib/python3.7/dist-packages/sklearn/linear_model/_logistic.py:818: ConvergenceWarning: lbfgs failed to converge (status=1):\n",
            "STOP: TOTAL NO. of ITERATIONS REACHED LIMIT.\n",
            "\n",
            "Increase the number of iterations (max_iter) or scale the data as shown in:\n",
            "    https://scikit-learn.org/stable/modules/preprocessing.html\n",
            "Please also refer to the documentation for alternative solver options:\n",
            "    https://scikit-learn.org/stable/modules/linear_model.html#logistic-regression\n",
            "  extra_warning_msg=_LOGISTIC_SOLVER_CONVERGENCE_MSG,\n",
            "/usr/local/lib/python3.7/dist-packages/sklearn/utils/deprecation.py:87: FutureWarning: Function plot_confusion_matrix is deprecated; Function `plot_confusion_matrix` is deprecated in 1.0 and will be removed in 1.2. Use one of the class methods: ConfusionMatrixDisplay.from_predictions or ConfusionMatrixDisplay.from_estimator.\n",
            "  warnings.warn(msg, category=FutureWarning)\n"
          ]
        },
        {
          "output_type": "stream",
          "name": "stdout",
          "text": [
            "              precision    recall  f1-score   support\n",
            "\n",
            "     High OS       0.70      0.60      0.65       387\n",
            "      Low OS       0.63      0.73      0.68       363\n",
            "\n",
            "    accuracy                           0.66       750\n",
            "   macro avg       0.67      0.66      0.66       750\n",
            "weighted avg       0.67      0.66      0.66       750\n",
            "\n"
          ]
        },
        {
          "output_type": "display_data",
          "data": {
            "text/plain": [
              "<Figure size 432x288 with 2 Axes>"
            ],
            "image/png": "[encoded data removed]"
          },
          "metadata": {
            "needs_background": "light"
          }
        }
      ]
    },
    {
      "cell_type": "markdown",
      "metadata": {
        "id": "W07HIOQgQuLi"
      },
      "source": [
        "##Árvore"
      ]
    },
    {
      "cell_type": "code",
      "execution_count": null,
      "metadata": {
        "colab": {
          "base_uri": "https://localhost:8080/"
        },
        "outputId": "31565676-8b34-46b3-9653-6d4a8f96d2c1",
        "id": "4qeyQha5QuLi"
      },
      "outputs": [
        {
          "output_type": "stream",
          "name": "stdout",
          "text": [
            "              precision    recall  f1-score   support\n",
            "\n",
            "     High OS       0.62      0.60      0.61       387\n",
            "      Low OS       0.59      0.61      0.60       363\n",
            "\n",
            "    accuracy                           0.61       750\n",
            "   macro avg       0.61      0.61      0.61       750\n",
            "weighted avg       0.61      0.61      0.61       750\n",
            "\n"
          ]
        },
        {
          "output_type": "stream",
          "name": "stderr",
          "text": [
            "/usr/local/lib/python3.7/dist-packages/sklearn/utils/deprecation.py:87: FutureWarning: Function plot_confusion_matrix is deprecated; Function `plot_confusion_matrix` is deprecated in 1.0 and will be removed in 1.2. Use one of the class methods: ConfusionMatrixDisplay.from_predictions or ConfusionMatrixDisplay.from_estimator.\n",
            "  warnings.warn(msg, category=FutureWarning)\n"
          ]
        },
        {
          "output_type": "display_data",
          "data": {
            "text/plain": [
              "<Figure size 432x288 with 2 Axes>"
            ],
            "image/png": "[encoded data removed]"
          },
          "metadata": {
            "needs_background": "light"
          }
        }
      ],
      "source": [
        "x = life_data.drop(columns=['record_id', 'output_os', 'follow_up_days_recidive', 'progesteron_perct', 'er_percentage'])\n",
        "y = life_data['output_os']\n",
        "\n",
        "x_train, x_test, y_train, y_test = train_test_split(x, y, test_size = 0.3, random_state = 42)\n",
        "\n",
        "modelMin = DecisionTreeClassifier(criterion='entropy')\n",
        "modelMin.fit(x_train, y_train)\n",
        "yPredMin = modelMin.predict(x_test)\n",
        "\n",
        "#f,gMin = plt.subplots(figsize=(100, 50))\n",
        "#arvoreMin  = plot_tree(modelMin, rounded=True,ax=gMin,\n",
        "              #feature_names=[\"pregnancy_history\", \"menarche\", \"diag_age\", \"period\", \"bmi\", \"hormone_therapy\", \"antec_fam_cancer_mama\", \"tobaco\", \"alcohol\", \"birads\", \"ultinfo\", 'follow_up_days', 'primary_diganosis', 'histological_grade', 'grau_hist', 'tumor_subtype'])\n",
        "matriz = plot_confusion_matrix(modelMin, x_test, y_test, cmap = 'Blues', values_format='.0f')\n",
        "\n",
        "print(classification_report(y_test, yPredMin))"
      ]
    },
    {
      "cell_type": "markdown",
      "source": [
        "## KNN"
      ],
      "metadata": {
        "id": "HPqqqpp9ME1V"
      }
    },
    {
      "cell_type": "code",
      "source": [
        "x = life_data.drop(columns=['record_id', 'output_os', 'progesteron_perct', 'er_percentage'])\n",
        "y = life_data['output_os']\n",
        "\n",
        "x_train, x_test, y_train, y_test = train_test_split(x, y, test_size = 0.3, random_state = 42)\n",
        "\n",
        "model_knn = neighbors.KNeighborsClassifier(n_neighbors = 6).fit(x_train, y_train)\n",
        "\n",
        "y_pred = model_knn.predict(x_test)\n",
        "\n",
        "matriz = plot_confusion_matrix(model_knn, x_test, y_test, cmap = 'Blues', values_format='.0f')\n",
        "\n",
        "print(classification_report(y_test, y_pred))\n",
        "\n",
        "y_test.value_counts()"
      ],
      "metadata": {
        "colab": {
          "base_uri": "https://localhost:8080/"
        },
        "id": "WLoldMCWMJEA",
        "outputId": "a740c9ef-fd36-45b9-ad84-2659f7cb1cc5"
      },
      "execution_count": null,
      "outputs": [
        {
          "output_type": "stream",
          "name": "stdout",
          "text": [
            "              precision    recall  f1-score   support\n",
            "\n",
            "     High OS       0.65      0.70      0.67       387\n",
            "      Low OS       0.65      0.59      0.62       363\n",
            "\n",
            "    accuracy                           0.65       750\n",
            "   macro avg       0.65      0.65      0.65       750\n",
            "weighted avg       0.65      0.65      0.65       750\n",
            "\n"
          ]
        },
        {
          "output_type": "stream",
          "name": "stderr",
          "text": [
            "/usr/local/lib/python3.7/dist-packages/sklearn/utils/deprecation.py:87: FutureWarning: Function plot_confusion_matrix is deprecated; Function `plot_confusion_matrix` is deprecated in 1.0 and will be removed in 1.2. Use one of the class methods: ConfusionMatrixDisplay.from_predictions or ConfusionMatrixDisplay.from_estimator.\n",
            "  warnings.warn(msg, category=FutureWarning)\n"
          ]
        },
        {
          "output_type": "execute_result",
          "data": {
            "text/plain": [
              "High OS    387\n",
              "Low OS     363\n",
              "Name: output_os, dtype: int64"
            ]
          },
          "metadata": {},
          "execution_count": 20
        },
        {
          "output_type": "display_data",
          "data": {
            "text/plain": [
              "<Figure size 432x288 with 2 Axes>"
            ],
            "image/png": "[encoded data removed]"
          },
          "metadata": {
            "needs_background": "light"
          }
        }
      ]
    },
    {
      "cell_type": "markdown",
      "metadata": {
        "id": "QBgEaeKn1Diw"
      },
      "source": [
        "##Random Forest"
      ]
    },
    {
      "cell_type": "code",
      "execution_count": null,
      "metadata": {
        "colab": {
          "base_uri": "https://localhost:8080/"
        },
        "outputId": "00b032b4-6e2a-4039-8e4f-47876a6d7b32",
        "id": "3JE23cPE1Di5"
      },
      "outputs": [
        {
          "output_type": "stream",
          "name": "stderr",
          "text": [
            "/usr/local/lib/python3.7/dist-packages/sklearn/utils/deprecation.py:87: FutureWarning: Function plot_confusion_matrix is deprecated; Function `plot_confusion_matrix` is deprecated in 1.0 and will be removed in 1.2. Use one of the class methods: ConfusionMatrixDisplay.from_predictions or ConfusionMatrixDisplay.from_estimator.\n",
            "  warnings.warn(msg, category=FutureWarning)\n"
          ]
        },
        {
          "output_type": "stream",
          "name": "stdout",
          "text": [
            "              precision    recall  f1-score   support\n",
            "\n",
            "     High OS       0.68      0.68      0.68       387\n",
            "      Low OS       0.66      0.65      0.65       363\n",
            "\n",
            "    accuracy                           0.67       750\n",
            "   macro avg       0.67      0.67      0.67       750\n",
            "weighted avg       0.67      0.67      0.67       750\n",
            "\n"
          ]
        },
        {
          "output_type": "display_data",
          "data": {
            "text/plain": [
              "<Figure size 432x288 with 2 Axes>"
            ],
            "image/png": "[encoded data removed]"
          },
          "metadata": {
            "needs_background": "light"
          }
        }
      ],
      "source": [
        "from sklearn.ensemble import RandomForestClassifier\n",
        "\n",
        "x = life_data.drop(columns=['record_id', 'output_os', 'follow_up_days_recidive', 'progesteron_perct', 'er_percentage'])\n",
        "y = life_data['output_os']\n",
        "\n",
        "x_train, x_test, y_train, y_test = train_test_split(x, y, test_size = 0.3, random_state = 42)\n",
        "\n",
        "modelMin = RandomForestClassifier(criterion='entropy')\n",
        "modelMin.fit(x_train, y_train)\n",
        "yPredMin = modelMin.predict(x_test)\n",
        "\n",
        "#f,gMin = plt.subplots(figsize=(100, 50))\n",
        "#arvoreMin  = plot_tree(modelMin, rounded=True,ax=gMin,\n",
        "              #feature_names=[\"pregnancy_history\", \"menarche\", \"diag_age\", \"period\", \"bmi\", \"hormone_therapy\", \"antec_fam_cancer_mama\", \"tobaco\", \"alcohol\", \"birads\", \"ultinfo\", 'follow_up_days', 'primary_diganosis', 'histological_grade', 'grau_hist', 'tumor_subtype'])\n",
        "matriz = plot_confusion_matrix(modelMin, x_test, y_test, cmap = 'Blues', values_format='.0f')\n",
        "\n",
        "print(classification_report(y_test, yPredMin))"
      ]
    },
    {
      "cell_type": "markdown",
      "source": [
        "##Boosting"
      ],
      "metadata": {
        "id": "qPr7V0qaRBe1"
      }
    },
    {
      "cell_type": "code",
      "source": [
        "from lightgbm import LGBMClassifier\n",
        "\n",
        "# Dividindo x e y\n",
        "x = life_data.drop(columns=['record_id', 'output_os', 'follow_up_days_recidive', 'progesteron_perct', 'er_percentage'])\n",
        "y = life_data['output_os']\n",
        "\n",
        "# Dividindo dados para treino e dados para teste\n",
        "x_train, x_test, y_train, y_test = train_test_split(x, y, test_size = 0.3, random_state = 42)\n",
        "\n",
        "modelLGBM = LGBMClassifier(n_estimators=100, random_state=0)\n",
        "modelLGBM.fit(x_train, y_train)\n",
        "\n",
        "y_pred = modelLGBM.predict(x_test)\n",
        "\n",
        "matriz = plot_confusion_matrix(modelLGBM, x_test, y_test, cmap = 'Blues', values_format='.0f')\n",
        "\n",
        "print(classification_report(y_test, y_pred))"
      ],
      "metadata": {
        "colab": {
          "base_uri": "https://localhost:8080/"
        },
        "outputId": "68331bea-19ed-4208-9b4a-454000ccbfc3",
        "id": "JXefljIVRBe2"
      },
      "execution_count": null,
      "outputs": [
        {
          "output_type": "stream",
          "name": "stderr",
          "text": [
            "/usr/local/lib/python3.7/dist-packages/sklearn/utils/deprecation.py:87: FutureWarning: Function plot_confusion_matrix is deprecated; Function `plot_confusion_matrix` is deprecated in 1.0 and will be removed in 1.2. Use one of the class methods: ConfusionMatrixDisplay.from_predictions or ConfusionMatrixDisplay.from_estimator.\n",
            "  warnings.warn(msg, category=FutureWarning)\n"
          ]
        },
        {
          "output_type": "stream",
          "name": "stdout",
          "text": [
            "              precision    recall  f1-score   support\n",
            "\n",
            "     High OS       0.67      0.68      0.68       387\n",
            "      Low OS       0.66      0.64      0.65       363\n",
            "\n",
            "    accuracy                           0.66       750\n",
            "   macro avg       0.66      0.66      0.66       750\n",
            "weighted avg       0.66      0.66      0.66       750\n",
            "\n"
          ]
        },
        {
          "output_type": "display_data",
          "data": {
            "text/plain": [
              "<Figure size 432x288 with 2 Axes>"
            ],
            "image/png": "[encoded data removed]"
          },
          "metadata": {
            "needs_background": "light"
          }
        }
      ]
    },
    {
      "cell_type": "markdown",
      "source": [
        "##Bagging"
      ],
      "metadata": {
        "id": "lvJv38QUREjH"
      }
    },
    {
      "cell_type": "code",
      "source": [
        "from sklearn.ensemble import BaggingClassifier\n",
        "\n",
        "# Dividindo x e y\n",
        "x = life_data.drop(columns=['record_id', 'output_os', 'follow_up_days_recidive', 'progesteron_perct', 'er_percentage'])\n",
        "y = life_data['output_os']\n",
        "\n",
        "# Dividindo dados para treino e dados para teste\n",
        "x_train, x_test, y_train, y_test = train_test_split(x, y, test_size = 0.3, random_state = 42)\n",
        "\n",
        "model_bagging = BaggingClassifier().fit(x_train, y_train)\n",
        "\n",
        "y_pred = model_bagging.predict(x_test)\n",
        "\n",
        "matriz = plot_confusion_matrix(model_bagging, x_test, y_test, cmap = 'Blues', values_format='.0f')\n",
        "\n",
        "print(classification_report(y_test, y_pred))"
      ],
      "metadata": {
        "colab": {
          "base_uri": "https://localhost:8080/"
        },
        "outputId": "d1426e03-acbc-4a00-afdc-b7fbccdb349a",
        "id": "oO4msxmsREjI"
      },
      "execution_count": null,
      "outputs": [
        {
          "output_type": "stream",
          "name": "stderr",
          "text": [
            "/usr/local/lib/python3.7/dist-packages/sklearn/utils/deprecation.py:87: FutureWarning: Function plot_confusion_matrix is deprecated; Function `plot_confusion_matrix` is deprecated in 1.0 and will be removed in 1.2. Use one of the class methods: ConfusionMatrixDisplay.from_predictions or ConfusionMatrixDisplay.from_estimator.\n",
            "  warnings.warn(msg, category=FutureWarning)\n"
          ]
        },
        {
          "output_type": "stream",
          "name": "stdout",
          "text": [
            "              precision    recall  f1-score   support\n",
            "\n",
            "     High OS       0.65      0.69      0.67       387\n",
            "      Low OS       0.65      0.61      0.63       363\n",
            "\n",
            "    accuracy                           0.65       750\n",
            "   macro avg       0.65      0.65      0.65       750\n",
            "weighted avg       0.65      0.65      0.65       750\n",
            "\n"
          ]
        },
        {
          "output_type": "display_data",
          "data": {
            "text/plain": [
              "<Figure size 432x288 with 2 Axes>"
            ],
            "image/png": "[encoded data removed]"
          },
          "metadata": {
            "needs_background": "light"
          }
        }
      ]
    },
    {
      "cell_type": "markdown",
      "source": [
        "#Pessoas que vieram a óbito por câncer"
      ],
      "metadata": {
        "id": "KqixTm4bQH8r"
      }
    },
    {
      "cell_type": "markdown",
      "source": [
        "A partir do treinamento apenas com pessoas que vieram a óbito foi possível identificar um padrão. Oito dos nove modelos apresentaram maior taxa de erro nos falsos negativos (Low OS como High OS)."
      ],
      "metadata": {
        "id": "HsqEU5RlPBrv"
      }
    },
    {
      "cell_type": "markdown",
      "source": [
        "Ao percebemos isso, criamos uma hipótese que o modelo acertou sim várias vezes, porém como `output_os` era relativo se a pessoa estava acima ou abaixo do `follow_up_days`, ele misturava várias categorias de expectativa de vida de várias pessoas.\n",
        "\n",
        "Um bom exemplo visivel é que em `death_data` faz sentido vários Low OS serem preditos como High OS, pois está levando em consideração somente dados de pessoas que vieram a óbito, então fica mais fácil de predizer seu risco de vida."
      ],
      "metadata": {
        "id": "BlaCU8Q4Png_"
      }
    },
    {
      "cell_type": "markdown",
      "source": [
        "###KNN"
      ],
      "metadata": {
        "id": "P60fzdDRQWJ9"
      }
    },
    {
      "cell_type": "code",
      "source": [
        "x = death_data.drop(columns=['record_id', 'output_os', 'progesteron_perct', 'er_percentage'])\n",
        "y = death_data['output_os']\n",
        "\n",
        "x_train, x_test, y_train, y_test = train_test_split(x, y, test_size = 0.3, random_state = 42)\n",
        "\n",
        "model_knn = neighbors.KNeighborsClassifier(n_neighbors = 6).fit(x_train, y_train)\n",
        "\n",
        "y_pred = model_knn.predict(x_test)\n",
        "\n",
        "matriz = plot_confusion_matrix(model_knn, x_test, y_test, cmap = 'Blues', values_format='.0f')\n",
        "\n",
        "print(classification_report(y_test, y_pred))\n",
        "\n",
        "y_test.value_counts()"
      ],
      "metadata": {
        "colab": {
          "base_uri": "https://localhost:8080/"
        },
        "outputId": "76195a22-9b55-4a3e-a859-e9a4a04a3ee6",
        "id": "7zreALVfQWJ-"
      },
      "execution_count": null,
      "outputs": [
        {
          "output_type": "stream",
          "name": "stdout",
          "text": [
            "              precision    recall  f1-score   support\n",
            "\n",
            "     High OS       0.50      0.77      0.61       115\n",
            "      Low OS       0.64      0.35      0.45       134\n",
            "\n",
            "    accuracy                           0.54       249\n",
            "   macro avg       0.57      0.56      0.53       249\n",
            "weighted avg       0.57      0.54      0.52       249\n",
            "\n"
          ]
        },
        {
          "output_type": "stream",
          "name": "stderr",
          "text": [
            "/usr/local/lib/python3.7/dist-packages/sklearn/utils/deprecation.py:87: FutureWarning: Function plot_confusion_matrix is deprecated; Function `plot_confusion_matrix` is deprecated in 1.0 and will be removed in 1.2. Use one of the class methods: ConfusionMatrixDisplay.from_predictions or ConfusionMatrixDisplay.from_estimator.\n",
            "  warnings.warn(msg, category=FutureWarning)\n"
          ]
        },
        {
          "output_type": "execute_result",
          "data": {
            "text/plain": [
              "Low OS     134\n",
              "High OS    115\n",
              "Name: output_os, dtype: int64"
            ]
          },
          "metadata": {},
          "execution_count": 24
        },
        {
          "output_type": "display_data",
          "data": {
            "text/plain": [
              "<Figure size 432x288 with 2 Axes>"
            ],
            "image/png": "[encoded data removed]"
          },
          "metadata": {
            "needs_background": "light"
          }
        }
      ]
    },
    {
      "cell_type": "markdown",
      "metadata": {
        "id": "Ba9yTyPeQfcF"
      },
      "source": [
        "##Bayes"
      ]
    },
    {
      "cell_type": "code",
      "execution_count": null,
      "metadata": {
        "colab": {
          "base_uri": "https://localhost:8080/",
          "height": 490
        },
        "outputId": "a7afdd0e-f29d-4a32-e445-3222f4e81875",
        "id": "4evBMAcaQfcI"
      },
      "outputs": [
        {
          "output_type": "stream",
          "name": "stdout",
          "text": [
            "              precision    recall  f1-score   support\n",
            "\n",
            "     High OS       0.50      0.85      0.63       115\n",
            "      Low OS       0.69      0.28      0.39       134\n",
            "\n",
            "    accuracy                           0.54       249\n",
            "   macro avg       0.59      0.56      0.51       249\n",
            "weighted avg       0.60      0.54      0.50       249\n",
            "\n"
          ]
        },
        {
          "output_type": "stream",
          "name": "stderr",
          "text": [
            "/usr/local/lib/python3.7/dist-packages/sklearn/utils/deprecation.py:87: FutureWarning: Function plot_confusion_matrix is deprecated; Function `plot_confusion_matrix` is deprecated in 1.0 and will be removed in 1.2. Use one of the class methods: ConfusionMatrixDisplay.from_predictions or ConfusionMatrixDisplay.from_estimator.\n",
            "  warnings.warn(msg, category=FutureWarning)\n"
          ]
        },
        {
          "output_type": "display_data",
          "data": {
            "text/plain": [
              "<Figure size 432x288 with 2 Axes>"
            ],
            "image/png": "[encoded data removed]"
          },
          "metadata": {
            "needs_background": "light"
          }
        }
      ],
      "source": [
        "x = death_data.drop(columns=['record_id', 'output_os', 'follow_up_days_recidive', 'progesteron_perct', 'er_percentage'])\n",
        "y = death_data['output_os']\n",
        "\n",
        "x_train, x_test, y_train, y_test = train_test_split(x, y, test_size = 0.3, random_state = 42)\n",
        "\n",
        "model = GaussianNB().fit(x_train, y_train)\n",
        "\n",
        "y_pred = model.predict(x_test)\n",
        "\n",
        "matriz = plot_confusion_matrix(model, x_test, y_test, cmap = 'Blues', values_format='.0f')\n",
        "\n",
        "print(classification_report(y_test, y_pred))"
      ]
    },
    {
      "cell_type": "markdown",
      "metadata": {
        "id": "HjSsgAEWQvbr"
      },
      "source": [
        "##Árvore"
      ]
    },
    {
      "cell_type": "code",
      "execution_count": null,
      "metadata": {
        "colab": {
          "base_uri": "https://localhost:8080/"
        },
        "outputId": "59e1cc24-2136-470e-e799-6af4dab6fd95",
        "id": "xwnQogFMQvbs"
      },
      "outputs": [
        {
          "output_type": "stream",
          "name": "stderr",
          "text": [
            "/usr/local/lib/python3.7/dist-packages/sklearn/utils/deprecation.py:87: FutureWarning: Function plot_confusion_matrix is deprecated; Function `plot_confusion_matrix` is deprecated in 1.0 and will be removed in 1.2. Use one of the class methods: ConfusionMatrixDisplay.from_predictions or ConfusionMatrixDisplay.from_estimator.\n",
            "  warnings.warn(msg, category=FutureWarning)\n"
          ]
        },
        {
          "output_type": "stream",
          "name": "stdout",
          "text": [
            "              precision    recall  f1-score   support\n",
            "\n",
            "     High OS       0.50      0.55      0.52       115\n",
            "      Low OS       0.58      0.53      0.55       134\n",
            "\n",
            "    accuracy                           0.54       249\n",
            "   macro avg       0.54      0.54      0.54       249\n",
            "weighted avg       0.54      0.54      0.54       249\n",
            "\n"
          ]
        },
        {
          "output_type": "display_data",
          "data": {
            "text/plain": [
              "<Figure size 432x288 with 2 Axes>"
            ],
            "image/png": "[encoded data removed]"
          },
          "metadata": {
            "needs_background": "light"
          }
        }
      ],
      "source": [
        "x = death_data.drop(columns=['record_id', 'output_os', 'follow_up_days_recidive', 'progesteron_perct', 'er_percentage'])\n",
        "y = death_data['output_os']\n",
        "\n",
        "x_train, x_test, y_train, y_test = train_test_split(x, y, test_size = 0.3, random_state = 42)\n",
        "\n",
        "modelMin = DecisionTreeClassifier(criterion='entropy')\n",
        "modelMin.fit(x_train, y_train)\n",
        "yPredMin = modelMin.predict(x_test)\n",
        "\n",
        "#f,gMin = plt.subplots(figsize=(100, 50))\n",
        "#arvoreMin  = plot_tree(modelMin, rounded=True,ax=gMin,\n",
        "              #feature_names=[\"pregnancy_history\", \"menarche\", \"diag_age\", \"period\", \"bmi\", \"hormone_therapy\", \"antec_fam_cancer_mama\", \"tobaco\", \"alcohol\", \"birads\", \"ultinfo\", 'follow_up_days', 'primary_diganosis', 'histological_grade', 'grau_hist', 'tumor_subtype'])\n",
        "matriz = plot_confusion_matrix(modelMin, x_test, y_test, cmap = 'Blues', values_format='.0f')\n",
        "\n",
        "print(classification_report(y_test, yPredMin))"
      ]
    },
    {
      "cell_type": "markdown",
      "metadata": {
        "id": "z1z1QpCr1j5p"
      },
      "source": [
        "##Random Forest"
      ]
    },
    {
      "cell_type": "code",
      "execution_count": null,
      "metadata": {
        "colab": {
          "base_uri": "https://localhost:8080/"
        },
        "outputId": "e2f2271b-4bb9-43cb-d440-3a6e63937316",
        "id": "fHKouVC71j5y"
      },
      "outputs": [
        {
          "output_type": "stream",
          "name": "stderr",
          "text": [
            "/usr/local/lib/python3.7/dist-packages/sklearn/utils/deprecation.py:87: FutureWarning: Function plot_confusion_matrix is deprecated; Function `plot_confusion_matrix` is deprecated in 1.0 and will be removed in 1.2. Use one of the class methods: ConfusionMatrixDisplay.from_predictions or ConfusionMatrixDisplay.from_estimator.\n",
            "  warnings.warn(msg, category=FutureWarning)\n"
          ]
        },
        {
          "output_type": "stream",
          "name": "stdout",
          "text": [
            "              precision    recall  f1-score   support\n",
            "\n",
            "     High OS       0.54      0.68      0.60       115\n",
            "      Low OS       0.64      0.50      0.56       134\n",
            "\n",
            "    accuracy                           0.58       249\n",
            "   macro avg       0.59      0.59      0.58       249\n",
            "weighted avg       0.60      0.58      0.58       249\n",
            "\n"
          ]
        },
        {
          "output_type": "display_data",
          "data": {
            "text/plain": [
              "<Figure size 432x288 with 2 Axes>"
            ],
            "image/png": "[encoded data removed]"
          },
          "metadata": {
            "needs_background": "light"
          }
        }
      ],
      "source": [
        "from sklearn.ensemble import RandomForestClassifier\n",
        "\n",
        "x = death_data.drop(columns=['record_id', 'output_os', 'follow_up_days_recidive', 'progesteron_perct', 'er_percentage'])\n",
        "y = death_data['output_os']\n",
        "\n",
        "x_train, x_test, y_train, y_test = train_test_split(x, y, test_size = 0.3, random_state = 42)\n",
        "\n",
        "modelMin = RandomForestClassifier(criterion='entropy')\n",
        "modelMin.fit(x_train, y_train)\n",
        "yPredMin = modelMin.predict(x_test)\n",
        "\n",
        "#f,gMin = plt.subplots(figsize=(100, 50))\n",
        "#arvoreMin  = plot_tree(modelMin, rounded=True,ax=gMin,\n",
        "              #feature_names=[\"pregnancy_history\", \"menarche\", \"diag_age\", \"period\", \"bmi\", \"hormone_therapy\", \"antec_fam_cancer_mama\", \"tobaco\", \"alcohol\", \"birads\", \"ultinfo\", 'follow_up_days', 'primary_diganosis', 'histological_grade', 'grau_hist', 'tumor_subtype'])\n",
        "matriz = plot_confusion_matrix(modelMin, x_test, y_test, cmap = 'Blues', values_format='.0f')\n",
        "\n",
        "print(classification_report(y_test, yPredMin))"
      ]
    },
    {
      "cell_type": "markdown",
      "source": [
        "##Regressão Logística"
      ],
      "metadata": {
        "id": "AkItd4sbQ4PE"
      }
    },
    {
      "cell_type": "code",
      "source": [
        "from sklearn.linear_model import LogisticRegression\n",
        "\n",
        "# Dividindo x e y\n",
        "x = death_data.drop(columns=['record_id', 'output_os', 'progesteron_perct', 'er_percentage'])\n",
        "y = death_data['output_os']\n",
        "\n",
        "# Dividindo dados para treino e dados para teste\n",
        "x_train, x_test, y_train, y_test = train_test_split(x, y, test_size = 0.3, random_state = 42)\n",
        "\n",
        "# Treinando o modelo\n",
        "model_logistic = LogisticRegression(max_iter = 500).fit(x_train, y_train)\n",
        "\n",
        "# Fazendo as predições\n",
        "y_pred = model_logistic.predict(x_test)\n",
        "\n",
        "matriz = plot_confusion_matrix(model_logistic, x_test, y_test, cmap = 'Blues', values_format='.0f')\n",
        "\n",
        "print(classification_report(y_test, y_pred))"
      ],
      "metadata": {
        "colab": {
          "base_uri": "https://localhost:8080/"
        },
        "outputId": "f91d9233-a3f1-4bb6-c793-86acff32c1ca",
        "id": "FYDuSwtdQ4PG"
      },
      "execution_count": null,
      "outputs": [
        {
          "output_type": "stream",
          "name": "stderr",
          "text": [
            "/usr/local/lib/python3.7/dist-packages/sklearn/utils/deprecation.py:87: FutureWarning: Function plot_confusion_matrix is deprecated; Function `plot_confusion_matrix` is deprecated in 1.0 and will be removed in 1.2. Use one of the class methods: ConfusionMatrixDisplay.from_predictions or ConfusionMatrixDisplay.from_estimator.\n",
            "  warnings.warn(msg, category=FutureWarning)\n"
          ]
        },
        {
          "output_type": "stream",
          "name": "stdout",
          "text": [
            "              precision    recall  f1-score   support\n",
            "\n",
            "     High OS       0.56      0.65      0.60       115\n",
            "      Low OS       0.65      0.56      0.60       134\n",
            "\n",
            "    accuracy                           0.60       249\n",
            "   macro avg       0.61      0.61      0.60       249\n",
            "weighted avg       0.61      0.60      0.60       249\n",
            "\n"
          ]
        },
        {
          "output_type": "display_data",
          "data": {
            "text/plain": [
              "<Figure size 432x288 with 2 Axes>"
            ],
            "image/png": "[encoded data removed]"
          },
          "metadata": {
            "needs_background": "light"
          }
        }
      ]
    },
    {
      "cell_type": "markdown",
      "source": [
        "##SVM"
      ],
      "metadata": {
        "id": "D_swu2qMZVTc"
      }
    },
    {
      "cell_type": "code",
      "source": [
        "from sklearn import svm\n",
        "# Dividindo x e y\n",
        "x = death_data.drop(columns=['record_id', 'output_os', 'follow_up_days_recidive', 'progesteron_perct', 'er_percentage'])\n",
        "y = death_data['output_os']\n",
        "\n",
        "# Dividindo dados para treino e dados para teste\n",
        "x_train, x_test, y_train, y_test = train_test_split(x, y, test_size = 0.3, random_state = 42)\n",
        "\n",
        "# Treinando o modelo\n",
        "model_svm = svm.SVC().fit(x_train, y_train)\n",
        "\n",
        "# Fazendo as predições\n",
        "y_pred = model_svm.predict(x_test)\n",
        "\n",
        "matriz = plot_confusion_matrix(model_svm, x_test, y_test, cmap = 'Blues', values_format='.0f')\n",
        "\n",
        "print(classification_report(y_test, y_pred))"
      ],
      "metadata": {
        "colab": {
          "base_uri": "https://localhost:8080/"
        },
        "outputId": "5348ef18-3ec5-4484-fbb5-038219ff49cd",
        "id": "4RA1FhQRZVTd"
      },
      "execution_count": null,
      "outputs": [
        {
          "output_type": "stream",
          "name": "stdout",
          "text": [
            "              precision    recall  f1-score   support\n",
            "\n",
            "     High OS       0.61      0.40      0.48       115\n",
            "      Low OS       0.60      0.78      0.68       134\n",
            "\n",
            "    accuracy                           0.61       249\n",
            "   macro avg       0.61      0.59      0.58       249\n",
            "weighted avg       0.61      0.61      0.59       249\n",
            "\n"
          ]
        },
        {
          "output_type": "stream",
          "name": "stderr",
          "text": [
            "/usr/local/lib/python3.7/dist-packages/sklearn/utils/deprecation.py:87: FutureWarning: Function plot_confusion_matrix is deprecated; Function `plot_confusion_matrix` is deprecated in 1.0 and will be removed in 1.2. Use one of the class methods: ConfusionMatrixDisplay.from_predictions or ConfusionMatrixDisplay.from_estimator.\n",
            "  warnings.warn(msg, category=FutureWarning)\n"
          ]
        },
        {
          "output_type": "display_data",
          "data": {
            "text/plain": [
              "<Figure size 432x288 with 2 Axes>"
            ],
            "image/png": "[encoded data removed]"
          },
          "metadata": {
            "needs_background": "light"
          }
        }
      ]
    },
    {
      "cell_type": "markdown",
      "source": [
        "##Stacking"
      ],
      "metadata": {
        "id": "o7g-2lG0Q_Sz"
      }
    },
    {
      "cell_type": "code",
      "source": [
        "from sklearn.ensemble import VotingClassifier, StackingClassifier\n",
        "\n",
        "x = death_data.drop(columns=['record_id', 'output_os', 'progesteron_perct', 'er_percentage'])\n",
        "y = death_data['output_os']\n",
        "\n",
        "# Dividindo dados para treino e dados para teste\n",
        "x_train, x_test, y_train, y_test = train_test_split(x, y, test_size = 0.3, random_state = 42)\n",
        "\n",
        "model_stacking = StackingClassifier(estimators=[('knn',model_knn), ('logistic',model_logistic)])\n",
        "model_stacking.fit(x_train, y_train)\n",
        "\n",
        "y_pred = model_stacking.predict(x_test)\n",
        "\n",
        "matriz = plot_confusion_matrix(model_stacking, x_test, y_test, cmap = 'Blues', values_format='.0f')\n",
        "\n",
        "print(classification_report(y_test, y_pred))\n"
      ],
      "metadata": {
        "colab": {
          "base_uri": "https://localhost:8080/"
        },
        "outputId": "958441f4-6936-45f5-8148-928c075e83db",
        "id": "pW1C13HvQ_S0"
      },
      "execution_count": null,
      "outputs": [
        {
          "output_type": "stream",
          "name": "stderr",
          "text": [
            "/usr/local/lib/python3.7/dist-packages/sklearn/linear_model/_logistic.py:818: ConvergenceWarning: lbfgs failed to converge (status=1):\n",
            "STOP: TOTAL NO. of ITERATIONS REACHED LIMIT.\n",
            "\n",
            "Increase the number of iterations (max_iter) or scale the data as shown in:\n",
            "    https://scikit-learn.org/stable/modules/preprocessing.html\n",
            "Please also refer to the documentation for alternative solver options:\n",
            "    https://scikit-learn.org/stable/modules/linear_model.html#logistic-regression\n",
            "  extra_warning_msg=_LOGISTIC_SOLVER_CONVERGENCE_MSG,\n",
            "/usr/local/lib/python3.7/dist-packages/sklearn/linear_model/_logistic.py:818: ConvergenceWarning: lbfgs failed to converge (status=1):\n",
            "STOP: TOTAL NO. of ITERATIONS REACHED LIMIT.\n",
            "\n",
            "Increase the number of iterations (max_iter) or scale the data as shown in:\n",
            "    https://scikit-learn.org/stable/modules/preprocessing.html\n",
            "Please also refer to the documentation for alternative solver options:\n",
            "    https://scikit-learn.org/stable/modules/linear_model.html#logistic-regression\n",
            "  extra_warning_msg=_LOGISTIC_SOLVER_CONVERGENCE_MSG,\n",
            "/usr/local/lib/python3.7/dist-packages/sklearn/linear_model/_logistic.py:818: ConvergenceWarning: lbfgs failed to converge (status=1):\n",
            "STOP: TOTAL NO. of ITERATIONS REACHED LIMIT.\n",
            "\n",
            "Increase the number of iterations (max_iter) or scale the data as shown in:\n",
            "    https://scikit-learn.org/stable/modules/preprocessing.html\n",
            "Please also refer to the documentation for alternative solver options:\n",
            "    https://scikit-learn.org/stable/modules/linear_model.html#logistic-regression\n",
            "  extra_warning_msg=_LOGISTIC_SOLVER_CONVERGENCE_MSG,\n",
            "/usr/local/lib/python3.7/dist-packages/sklearn/utils/deprecation.py:87: FutureWarning: Function plot_confusion_matrix is deprecated; Function `plot_confusion_matrix` is deprecated in 1.0 and will be removed in 1.2. Use one of the class methods: ConfusionMatrixDisplay.from_predictions or ConfusionMatrixDisplay.from_estimator.\n",
            "  warnings.warn(msg, category=FutureWarning)\n"
          ]
        },
        {
          "output_type": "stream",
          "name": "stdout",
          "text": [
            "              precision    recall  f1-score   support\n",
            "\n",
            "     High OS       0.58      0.67      0.62       115\n",
            "      Low OS       0.68      0.59      0.63       134\n",
            "\n",
            "    accuracy                           0.63       249\n",
            "   macro avg       0.63      0.63      0.63       249\n",
            "weighted avg       0.63      0.63      0.63       249\n",
            "\n"
          ]
        },
        {
          "output_type": "display_data",
          "data": {
            "text/plain": [
              "<Figure size 432x288 with 2 Axes>"
            ],
            "image/png": "[encoded data removed]"
          },
          "metadata": {
            "needs_background": "light"
          }
        }
      ]
    },
    {
      "cell_type": "markdown",
      "source": [
        "##Boosting"
      ],
      "metadata": {
        "id": "x7S9jzdnRCiJ"
      }
    },
    {
      "cell_type": "code",
      "source": [
        "from lightgbm import LGBMClassifier\n",
        "\n",
        "x = death_data.drop(columns=['record_id', 'output_os', 'progesteron_perct', 'er_percentage'])\n",
        "y = death_data['output_os']\n",
        "\n",
        "# Dividindo dados para treino e dados para teste\n",
        "x_train, x_test, y_train, y_test = train_test_split(x, y, test_size = 0.3, random_state = 42)\n",
        "\n",
        "modelLGBM = LGBMClassifier(n_estimators=100, random_state=0)\n",
        "modelLGBM.fit(x_train, y_train)\n",
        "\n",
        "y_pred = modelLGBM.predict(x_test)\n",
        "\n",
        "matriz = plot_confusion_matrix(modelLGBM, x_test, y_test, cmap = 'Blues', values_format='.0f')\n",
        "\n",
        "print(classification_report(y_test, y_pred))"
      ],
      "metadata": {
        "colab": {
          "base_uri": "https://localhost:8080/"
        },
        "outputId": "058034da-afad-4ce2-e04c-a2d9588e7ba5",
        "id": "Qjldpj26RCiK"
      },
      "execution_count": null,
      "outputs": [
        {
          "output_type": "stream",
          "name": "stdout",
          "text": [
            "              precision    recall  f1-score   support\n",
            "\n",
            "     High OS       0.54      0.64      0.59       115\n",
            "      Low OS       0.64      0.54      0.58       134\n",
            "\n",
            "    accuracy                           0.59       249\n",
            "   macro avg       0.59      0.59      0.59       249\n",
            "weighted avg       0.59      0.59      0.59       249\n",
            "\n"
          ]
        },
        {
          "output_type": "stream",
          "name": "stderr",
          "text": [
            "/usr/local/lib/python3.7/dist-packages/sklearn/utils/deprecation.py:87: FutureWarning: Function plot_confusion_matrix is deprecated; Function `plot_confusion_matrix` is deprecated in 1.0 and will be removed in 1.2. Use one of the class methods: ConfusionMatrixDisplay.from_predictions or ConfusionMatrixDisplay.from_estimator.\n",
            "  warnings.warn(msg, category=FutureWarning)\n"
          ]
        },
        {
          "output_type": "display_data",
          "data": {
            "text/plain": [
              "<Figure size 432x288 with 2 Axes>"
            ],
            "image/png": "[encoded data removed]"
          },
          "metadata": {
            "needs_background": "light"
          }
        }
      ]
    },
    {
      "cell_type": "markdown",
      "source": [
        "##Bagging"
      ],
      "metadata": {
        "id": "bgxmOg18RFaw"
      }
    },
    {
      "cell_type": "code",
      "source": [
        "from sklearn.ensemble import BaggingClassifier\n",
        "\n",
        "# Dividindo x e y\n",
        "x = death_data.drop(columns=['record_id', 'output_os', 'progesteron_perct', 'er_percentage'])\n",
        "y = death_data['output_os']\n",
        "\n",
        "# Dividindo dados para treino e dados para teste\n",
        "x_train, x_test, y_train, y_test = train_test_split(x, y, test_size = 0.3, random_state = 42)\n",
        "\n",
        "model_bagging = BaggingClassifier().fit(x_train, y_train)\n",
        "\n",
        "y_pred = model_bagging.predict(x_test)\n",
        "\n",
        "matriz = plot_confusion_matrix(model_bagging, x_test, y_test, cmap = 'Blues', values_format='.0f')\n",
        "\n",
        "print(classification_report(y_test, y_pred))"
      ],
      "metadata": {
        "colab": {
          "base_uri": "https://localhost:8080/",
          "height": 490
        },
        "outputId": "a7c231bf-9647-489a-d9a7-3180d63df338",
        "id": "KdtmVcEQRFax"
      },
      "execution_count": null,
      "outputs": [
        {
          "output_type": "stream",
          "name": "stdout",
          "text": [
            "              precision    recall  f1-score   support\n",
            "\n",
            "     High OS       0.53      0.73      0.62       115\n",
            "      Low OS       0.66      0.45      0.53       134\n",
            "\n",
            "    accuracy                           0.58       249\n",
            "   macro avg       0.60      0.59      0.57       249\n",
            "weighted avg       0.60      0.58      0.57       249\n",
            "\n"
          ]
        },
        {
          "output_type": "stream",
          "name": "stderr",
          "text": [
            "/usr/local/lib/python3.7/dist-packages/sklearn/utils/deprecation.py:87: FutureWarning: Function plot_confusion_matrix is deprecated; Function `plot_confusion_matrix` is deprecated in 1.0 and will be removed in 1.2. Use one of the class methods: ConfusionMatrixDisplay.from_predictions or ConfusionMatrixDisplay.from_estimator.\n",
            "  warnings.warn(msg, category=FutureWarning)\n"
          ]
        },
        {
          "output_type": "display_data",
          "data": {
            "text/plain": [
              "<Figure size 432x288 with 2 Axes>"
            ],
            "image/png": "[encoded data removed]"
          },
          "metadata": {
            "needs_background": "light"
          }
        }
      ]
    }
  ],
  "metadata": {
    "colab": {
      "provenance": [],
      "collapsed_sections": [
        "kQq76mlAOIbb",
        "GzxcgQSw0SJV",
        "QBL3PDG-sTyN",
        "bS4-Zf9ZHFVX",
        "kUKaOxOEHJTr",
        "6EMqlgKskAd8",
        "3gWueGqlSSBV",
        "M422PP0psKkS",
        "sN5HFVdovjn8",
        "sU2a1s5SQbuN",
        "XCgZKf67Q3K8",
        "LlSIFHtRZHAl",
        "M3BD829AQ-Ip",
        "W07HIOQgQuLi",
        "HPqqqpp9ME1V",
        "QBgEaeKn1Diw",
        "qPr7V0qaRBe1",
        "lvJv38QUREjH",
        "P60fzdDRQWJ9",
        "Ba9yTyPeQfcF",
        "HjSsgAEWQvbr",
        "z1z1QpCr1j5p",
        "AkItd4sbQ4PE",
        "D_swu2qMZVTc",
        "o7g-2lG0Q_Sz",
        "x7S9jzdnRCiJ",
        "bgxmOg18RFaw"
      ]
    },
    "kernelspec": {
      "display_name": "Python 3",
      "name": "python3"
    },
    "language_info": {
      "name": "python"
    }
  },
  "nbformat": 4,
  "nbformat_minor": 0
}